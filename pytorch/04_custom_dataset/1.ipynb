{
 "cells": [
  {
   "cell_type": "code",
   "execution_count": 1,
   "metadata": {},
   "outputs": [
    {
     "data": {
      "text/plain": [
       "'2.6.0'"
      ]
     },
     "execution_count": 1,
     "metadata": {},
     "output_type": "execute_result"
    }
   ],
   "source": [
    "import torch\n",
    "from torch import nn\n",
    "\n",
    "torch.__version__\n"
   ]
  },
  {
   "cell_type": "code",
   "execution_count": 2,
   "metadata": {},
   "outputs": [
    {
     "data": {
      "text/plain": [
       "'cpu'"
      ]
     },
     "execution_count": 2,
     "metadata": {},
     "output_type": "execute_result"
    }
   ],
   "source": [
    "# setup device agonostic code\n",
    "device = \"cuda\" if torch.cuda.is_available() else \"cpu\"\n",
    "device\n"
   ]
  },
  {
   "cell_type": "markdown",
   "metadata": {},
   "source": [
    "### GET DATA"
   ]
  },
  {
   "cell_type": "code",
   "execution_count": 22,
   "metadata": {},
   "outputs": [
    {
     "name": "stdout",
     "output_type": "stream",
     "text": [
      "Downloading data\n",
      "Unzippimg the file\n"
     ]
    }
   ],
   "source": [
    "import requests\n",
    "import zipfile\n",
    "from pathlib import Path\n",
    "\n",
    "# setup data path\n",
    "data_path = Path(\"data\")\n",
    "image_path = data_path / \"pizza_steak_sushi\"\n",
    "image_path\n",
    "\n",
    "# if data already exist\n",
    "if image_path.is_dir():\n",
    "    print(\"Path already exist... skipping download\")\n",
    "else:\n",
    "    image_path.mkdir(parents=True, exist_ok=True)\n",
    "    with open(image_path / \"pizza_steak_sushi.zip\", \"wb\") as f:\n",
    "        request = requests.get(\"https://github.com/mrdbourke/pytorch-deep-learning/raw/main/data/pizza_steak_sushi.zip\")\n",
    "        print(\"Downloading data\")\n",
    "        f.write(request.content)\n",
    "        \n",
    "\n",
    "# unizip the content\n",
    "with zipfile.ZipFile(image_path/\"pizza_steak_sushi.zip\", \"r\") as f:\n",
    "    print(\"Unzippimg the file\")\n",
    "    f.extractall(image_path)\n",
    "\n",
    "\n"
   ]
  },
  {
   "cell_type": "code",
   "execution_count": 23,
   "metadata": {},
   "outputs": [],
   "source": [
    "import os\n",
    "def walk_dir(path):\n",
    "    \"\"\"Walk in the path of dir\"\"\"\n",
    "    for dirpath, dirnames, filenames in  os.walk(path):\n",
    "        print(f\"There are {len(dirnames)}directories and {len(filenames)} images in {dirpath}\")\n",
    "    "
   ]
  },
  {
   "cell_type": "code",
   "execution_count": 24,
   "metadata": {},
   "outputs": [
    {
     "name": "stdout",
     "output_type": "stream",
     "text": [
      "There are 2directories and 1 images in data/pizza_steak_sushi\n",
      "There are 3directories and 0 images in data/pizza_steak_sushi/test\n",
      "There are 0directories and 19 images in data/pizza_steak_sushi/test/steak\n",
      "There are 0directories and 31 images in data/pizza_steak_sushi/test/sushi\n",
      "There are 0directories and 25 images in data/pizza_steak_sushi/test/pizza\n",
      "There are 3directories and 0 images in data/pizza_steak_sushi/train\n",
      "There are 0directories and 75 images in data/pizza_steak_sushi/train/steak\n",
      "There are 0directories and 72 images in data/pizza_steak_sushi/train/sushi\n",
      "There are 0directories and 78 images in data/pizza_steak_sushi/train/pizza\n"
     ]
    }
   ],
   "source": [
    "walk_dir(image_path)"
   ]
  },
  {
   "cell_type": "code",
   "execution_count": 26,
   "metadata": {},
   "outputs": [
    {
     "data": {
      "text/plain": [
       "(PosixPath('data/pizza_steak_sushi/train'),\n",
       " PosixPath('data/pizza_steak_sushi/test'))"
      ]
     },
     "execution_count": 26,
     "metadata": {},
     "output_type": "execute_result"
    }
   ],
   "source": [
    "train_dir = image_path/\"train\"\n",
    "test_dir = image_path/\"test\"\n",
    "\n",
    "train_dir, test_dir"
   ]
  },
  {
   "cell_type": "code",
   "execution_count": null,
   "metadata": {},
   "outputs": [],
   "source": []
  }
 ],
 "metadata": {
  "kernelspec": {
   "display_name": "transformers",
   "language": "python",
   "name": "python3"
  },
  "language_info": {
   "codemirror_mode": {
    "name": "ipython",
    "version": 3
   },
   "file_extension": ".py",
   "mimetype": "text/x-python",
   "name": "python",
   "nbconvert_exporter": "python",
   "pygments_lexer": "ipython3",
   "version": "3.13.1"
  }
 },
 "nbformat": 4,
 "nbformat_minor": 2
}
