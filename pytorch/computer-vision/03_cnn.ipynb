{
 "cells": [
  {
   "cell_type": "code",
   "execution_count": 17,
   "metadata": {},
   "outputs": [],
   "source": [
    "## Convolutional Neural Network\n",
    "import torch\n",
    "from torch import nn\n",
    "from torchvision import datasets\n",
    "from torchvision.transforms import transforms\n",
    "\n",
    "\n",
    "train_data = datasets.FashionMNIST(root=\"datas\",\n",
    "                                   download=True,\n",
    "                                   train=True,\n",
    "                                   transform=transforms.ToTensor()\n",
    "                                   )\n",
    "\n",
    "\n",
    "test_data = datasets.FashionMNIST(root=\"datas\",\n",
    "                                  download=True,\n",
    "                                  train=False,\n",
    "                                  transform=transforms.ToTensor()\n",
    "                                  )\n",
    "        "
   ]
  },
  {
   "cell_type": "code",
   "execution_count": 18,
   "metadata": {},
   "outputs": [
    {
     "data": {
      "text/plain": [
       "(tensor([[[0.0000, 0.0000, 0.0000, 0.0000, 0.0000, 0.0000, 0.0000, 0.0000,\n",
       "           0.0000, 0.0000, 0.0000, 0.0000, 0.0000, 0.0000, 0.0000, 0.0000,\n",
       "           0.0000, 0.0000, 0.0000, 0.0000, 0.0000, 0.0000, 0.0000, 0.0000,\n",
       "           0.0000, 0.0000, 0.0000, 0.0000],\n",
       "          [0.0000, 0.0000, 0.0000, 0.0000, 0.0000, 0.0000, 0.0000, 0.0000,\n",
       "           0.0000, 0.0000, 0.0000, 0.0000, 0.0000, 0.0000, 0.0000, 0.0000,\n",
       "           0.0000, 0.0000, 0.0000, 0.0000, 0.0000, 0.0000, 0.0000, 0.0000,\n",
       "           0.0000, 0.0000, 0.0000, 0.0000],\n",
       "          [0.0000, 0.0000, 0.0000, 0.0000, 0.0000, 0.0000, 0.0000, 0.0000,\n",
       "           0.0000, 0.0000, 0.0000, 0.0000, 0.0000, 0.0000, 0.0000, 0.0000,\n",
       "           0.0000, 0.0000, 0.0000, 0.0000, 0.0000, 0.0000, 0.0000, 0.0000,\n",
       "           0.0000, 0.0000, 0.0000, 0.0000],\n",
       "          [0.0000, 0.0000, 0.0000, 0.0000, 0.0000, 0.0000, 0.0000, 0.0000,\n",
       "           0.0000, 0.0000, 0.0000, 0.0000, 0.0039, 0.0000, 0.0000, 0.0510,\n",
       "           0.2863, 0.0000, 0.0000, 0.0039, 0.0157, 0.0000, 0.0000, 0.0000,\n",
       "           0.0000, 0.0039, 0.0039, 0.0000],\n",
       "          [0.0000, 0.0000, 0.0000, 0.0000, 0.0000, 0.0000, 0.0000, 0.0000,\n",
       "           0.0000, 0.0000, 0.0000, 0.0000, 0.0118, 0.0000, 0.1412, 0.5333,\n",
       "           0.4980, 0.2431, 0.2118, 0.0000, 0.0000, 0.0000, 0.0039, 0.0118,\n",
       "           0.0157, 0.0000, 0.0000, 0.0118],\n",
       "          [0.0000, 0.0000, 0.0000, 0.0000, 0.0000, 0.0000, 0.0000, 0.0000,\n",
       "           0.0000, 0.0000, 0.0000, 0.0000, 0.0235, 0.0000, 0.4000, 0.8000,\n",
       "           0.6902, 0.5255, 0.5647, 0.4824, 0.0902, 0.0000, 0.0000, 0.0000,\n",
       "           0.0000, 0.0471, 0.0392, 0.0000],\n",
       "          [0.0000, 0.0000, 0.0000, 0.0000, 0.0000, 0.0000, 0.0000, 0.0000,\n",
       "           0.0000, 0.0000, 0.0000, 0.0000, 0.0000, 0.0000, 0.6078, 0.9255,\n",
       "           0.8118, 0.6980, 0.4196, 0.6118, 0.6314, 0.4275, 0.2510, 0.0902,\n",
       "           0.3020, 0.5098, 0.2824, 0.0588],\n",
       "          [0.0000, 0.0000, 0.0000, 0.0000, 0.0000, 0.0000, 0.0000, 0.0000,\n",
       "           0.0000, 0.0000, 0.0000, 0.0039, 0.0000, 0.2706, 0.8118, 0.8745,\n",
       "           0.8549, 0.8471, 0.8471, 0.6392, 0.4980, 0.4745, 0.4784, 0.5725,\n",
       "           0.5529, 0.3451, 0.6745, 0.2588],\n",
       "          [0.0000, 0.0000, 0.0000, 0.0000, 0.0000, 0.0000, 0.0000, 0.0000,\n",
       "           0.0000, 0.0039, 0.0039, 0.0039, 0.0000, 0.7843, 0.9098, 0.9098,\n",
       "           0.9137, 0.8980, 0.8745, 0.8745, 0.8431, 0.8353, 0.6431, 0.4980,\n",
       "           0.4824, 0.7686, 0.8980, 0.0000],\n",
       "          [0.0000, 0.0000, 0.0000, 0.0000, 0.0000, 0.0000, 0.0000, 0.0000,\n",
       "           0.0000, 0.0000, 0.0000, 0.0000, 0.0000, 0.7176, 0.8824, 0.8471,\n",
       "           0.8745, 0.8941, 0.9216, 0.8902, 0.8784, 0.8706, 0.8784, 0.8667,\n",
       "           0.8745, 0.9608, 0.6784, 0.0000],\n",
       "          [0.0000, 0.0000, 0.0000, 0.0000, 0.0000, 0.0000, 0.0000, 0.0000,\n",
       "           0.0000, 0.0000, 0.0000, 0.0000, 0.0000, 0.7569, 0.8941, 0.8549,\n",
       "           0.8353, 0.7765, 0.7059, 0.8314, 0.8235, 0.8275, 0.8353, 0.8745,\n",
       "           0.8627, 0.9529, 0.7922, 0.0000],\n",
       "          [0.0000, 0.0000, 0.0000, 0.0000, 0.0000, 0.0000, 0.0000, 0.0000,\n",
       "           0.0000, 0.0039, 0.0118, 0.0000, 0.0471, 0.8588, 0.8627, 0.8314,\n",
       "           0.8549, 0.7529, 0.6627, 0.8902, 0.8157, 0.8549, 0.8784, 0.8314,\n",
       "           0.8863, 0.7725, 0.8196, 0.2039],\n",
       "          [0.0000, 0.0000, 0.0000, 0.0000, 0.0000, 0.0000, 0.0000, 0.0000,\n",
       "           0.0000, 0.0000, 0.0235, 0.0000, 0.3882, 0.9569, 0.8706, 0.8627,\n",
       "           0.8549, 0.7961, 0.7765, 0.8667, 0.8431, 0.8353, 0.8706, 0.8627,\n",
       "           0.9608, 0.4667, 0.6549, 0.2196],\n",
       "          [0.0000, 0.0000, 0.0000, 0.0000, 0.0000, 0.0000, 0.0000, 0.0000,\n",
       "           0.0000, 0.0157, 0.0000, 0.0000, 0.2157, 0.9255, 0.8941, 0.9020,\n",
       "           0.8941, 0.9412, 0.9098, 0.8353, 0.8549, 0.8745, 0.9176, 0.8510,\n",
       "           0.8510, 0.8196, 0.3608, 0.0000],\n",
       "          [0.0000, 0.0000, 0.0039, 0.0157, 0.0235, 0.0275, 0.0078, 0.0000,\n",
       "           0.0000, 0.0000, 0.0000, 0.0000, 0.9294, 0.8863, 0.8510, 0.8745,\n",
       "           0.8706, 0.8588, 0.8706, 0.8667, 0.8471, 0.8745, 0.8980, 0.8431,\n",
       "           0.8549, 1.0000, 0.3020, 0.0000],\n",
       "          [0.0000, 0.0118, 0.0000, 0.0000, 0.0000, 0.0000, 0.0000, 0.0000,\n",
       "           0.0000, 0.2431, 0.5686, 0.8000, 0.8941, 0.8118, 0.8353, 0.8667,\n",
       "           0.8549, 0.8157, 0.8275, 0.8549, 0.8784, 0.8745, 0.8588, 0.8431,\n",
       "           0.8784, 0.9569, 0.6235, 0.0000],\n",
       "          [0.0000, 0.0000, 0.0000, 0.0000, 0.0706, 0.1725, 0.3216, 0.4196,\n",
       "           0.7412, 0.8941, 0.8627, 0.8706, 0.8510, 0.8863, 0.7843, 0.8039,\n",
       "           0.8275, 0.9020, 0.8784, 0.9176, 0.6902, 0.7373, 0.9804, 0.9725,\n",
       "           0.9137, 0.9333, 0.8431, 0.0000],\n",
       "          [0.0000, 0.2235, 0.7333, 0.8157, 0.8784, 0.8667, 0.8784, 0.8157,\n",
       "           0.8000, 0.8392, 0.8157, 0.8196, 0.7843, 0.6235, 0.9608, 0.7569,\n",
       "           0.8078, 0.8745, 1.0000, 1.0000, 0.8667, 0.9176, 0.8667, 0.8275,\n",
       "           0.8627, 0.9098, 0.9647, 0.0000],\n",
       "          [0.0118, 0.7922, 0.8941, 0.8784, 0.8667, 0.8275, 0.8275, 0.8392,\n",
       "           0.8039, 0.8039, 0.8039, 0.8627, 0.9412, 0.3137, 0.5882, 1.0000,\n",
       "           0.8980, 0.8667, 0.7373, 0.6039, 0.7490, 0.8235, 0.8000, 0.8196,\n",
       "           0.8706, 0.8941, 0.8824, 0.0000],\n",
       "          [0.3843, 0.9137, 0.7765, 0.8235, 0.8706, 0.8980, 0.8980, 0.9176,\n",
       "           0.9765, 0.8627, 0.7608, 0.8431, 0.8510, 0.9451, 0.2549, 0.2863,\n",
       "           0.4157, 0.4588, 0.6588, 0.8588, 0.8667, 0.8431, 0.8510, 0.8745,\n",
       "           0.8745, 0.8784, 0.8980, 0.1137],\n",
       "          [0.2941, 0.8000, 0.8314, 0.8000, 0.7569, 0.8039, 0.8275, 0.8824,\n",
       "           0.8471, 0.7255, 0.7725, 0.8078, 0.7765, 0.8353, 0.9412, 0.7647,\n",
       "           0.8902, 0.9608, 0.9373, 0.8745, 0.8549, 0.8314, 0.8196, 0.8706,\n",
       "           0.8627, 0.8667, 0.9020, 0.2627],\n",
       "          [0.1882, 0.7961, 0.7176, 0.7608, 0.8353, 0.7725, 0.7255, 0.7451,\n",
       "           0.7608, 0.7529, 0.7922, 0.8392, 0.8588, 0.8667, 0.8627, 0.9255,\n",
       "           0.8824, 0.8471, 0.7804, 0.8078, 0.7294, 0.7098, 0.6941, 0.6745,\n",
       "           0.7098, 0.8039, 0.8078, 0.4510],\n",
       "          [0.0000, 0.4784, 0.8588, 0.7569, 0.7020, 0.6706, 0.7176, 0.7686,\n",
       "           0.8000, 0.8235, 0.8353, 0.8118, 0.8275, 0.8235, 0.7843, 0.7686,\n",
       "           0.7608, 0.7490, 0.7647, 0.7490, 0.7765, 0.7529, 0.6902, 0.6118,\n",
       "           0.6549, 0.6941, 0.8235, 0.3608],\n",
       "          [0.0000, 0.0000, 0.2902, 0.7412, 0.8314, 0.7490, 0.6863, 0.6745,\n",
       "           0.6863, 0.7098, 0.7255, 0.7373, 0.7412, 0.7373, 0.7569, 0.7765,\n",
       "           0.8000, 0.8196, 0.8235, 0.8235, 0.8275, 0.7373, 0.7373, 0.7608,\n",
       "           0.7529, 0.8471, 0.6667, 0.0000],\n",
       "          [0.0078, 0.0000, 0.0000, 0.0000, 0.2588, 0.7843, 0.8706, 0.9294,\n",
       "           0.9373, 0.9490, 0.9647, 0.9529, 0.9569, 0.8667, 0.8627, 0.7569,\n",
       "           0.7490, 0.7020, 0.7137, 0.7137, 0.7098, 0.6902, 0.6510, 0.6588,\n",
       "           0.3882, 0.2275, 0.0000, 0.0000],\n",
       "          [0.0000, 0.0000, 0.0000, 0.0000, 0.0000, 0.0000, 0.0000, 0.1569,\n",
       "           0.2392, 0.1725, 0.2824, 0.1608, 0.1373, 0.0000, 0.0000, 0.0000,\n",
       "           0.0000, 0.0000, 0.0000, 0.0000, 0.0000, 0.0000, 0.0000, 0.0000,\n",
       "           0.0000, 0.0000, 0.0000, 0.0000],\n",
       "          [0.0000, 0.0000, 0.0000, 0.0000, 0.0000, 0.0000, 0.0000, 0.0000,\n",
       "           0.0000, 0.0000, 0.0000, 0.0000, 0.0000, 0.0000, 0.0000, 0.0000,\n",
       "           0.0000, 0.0000, 0.0000, 0.0000, 0.0000, 0.0000, 0.0000, 0.0000,\n",
       "           0.0000, 0.0000, 0.0000, 0.0000],\n",
       "          [0.0000, 0.0000, 0.0000, 0.0000, 0.0000, 0.0000, 0.0000, 0.0000,\n",
       "           0.0000, 0.0000, 0.0000, 0.0000, 0.0000, 0.0000, 0.0000, 0.0000,\n",
       "           0.0000, 0.0000, 0.0000, 0.0000, 0.0000, 0.0000, 0.0000, 0.0000,\n",
       "           0.0000, 0.0000, 0.0000, 0.0000]]]),\n",
       " 9)"
      ]
     },
     "execution_count": 18,
     "metadata": {},
     "output_type": "execute_result"
    }
   ],
   "source": [
    "len(train_data), len(test_data)\n",
    "\n",
    "train_data[0]\n"
   ]
  },
  {
   "cell_type": "code",
   "execution_count": 19,
   "metadata": {},
   "outputs": [
    {
     "data": {
      "text/plain": [
       "(10, torch.Size([1, 28, 28]))"
      ]
     },
     "execution_count": 19,
     "metadata": {},
     "output_type": "execute_result"
    }
   ],
   "source": [
    "len(train_data.classes),  train_data[0][0].shape"
   ]
  },
  {
   "cell_type": "code",
   "execution_count": 20,
   "metadata": {},
   "outputs": [],
   "source": [
    "class FashinMnistV2(nn.Module):\n",
    "    def __init__(self, input_shape, hidden_unit, output_shape):\n",
    "        super().__init__()\n",
    "        self.conv_block_1 = nn.Sequential(\n",
    "            nn.Conv2d(\n",
    "               in_channels= input_shape,\n",
    "               out_channels=hidden_unit,\n",
    "               stride=1,\n",
    "               padding=1,\n",
    "               kernel_size=3\n",
    "            ),\n",
    "            nn.ReLU(),\n",
    "            nn.Conv2d(in_channels=hidden_unit,\n",
    "                      out_channels=hidden_unit,\n",
    "                      stride=1,\n",
    "                      padding=1,\n",
    "                      kernel_size=3\n",
    "            ),\n",
    "            nn.ReLU(),\n",
    "            nn.MaxPool2d(kernel_size=2)\n",
    "                 \n",
    "        )\n",
    "        \n",
    "        self.conv_block_2 = nn.Sequential(\n",
    "              nn.Conv2d(\n",
    "               in_channels= hidden_unit,\n",
    "               out_channels=hidden_unit,\n",
    "               stride=1,\n",
    "               padding=1,\n",
    "               kernel_size=3\n",
    "            ),\n",
    "            nn.ReLU(),\n",
    "            nn.Conv2d(in_channels=hidden_unit,\n",
    "                      out_channels=hidden_unit,\n",
    "                      stride=1,\n",
    "                      padding=1,\n",
    "                      kernel_size=3\n",
    "            ),\n",
    "            nn.ReLU(),\n",
    "            nn.MaxPool2d(kernel_size=2)\n",
    "        )\n",
    "        \n",
    "        self.classifier = nn.Sequential(\n",
    "            nn.Flatten(),\n",
    "            nn.Linear(in_features=hidden_unit*7*7 ,   ## resolve this sachin????\n",
    "                      out_features= output_shape)\n",
    "            \n",
    "        )\n",
    "        \n",
    "    def forward(self, x):\n",
    "        x = self.conv_block_1(x)\n",
    "        # print(\"Shape conv layer 1\" , x.shape)\n",
    "        x = self.conv_block_2(x)\n",
    "        # print(\"Shape conv layer 2\" , x.shape)\n",
    "        x = self.classifier(x)\n",
    "        # print(\"Shape classifier\" , x.shape)\n",
    "\n",
    "        \n",
    "        return x\n"
   ]
  },
  {
   "cell_type": "code",
   "execution_count": 21,
   "metadata": {},
   "outputs": [],
   "source": [
    "# Instatiate our model \n",
    "\n",
    "device = \"cuda\" if torch.cuda.is_available() else \"cpu\"\n",
    "\n",
    "torch.manual_seed(42)\n",
    "model_2 = FashinMnistV2(input_shape=1,\n",
    "                        hidden_unit=10,\n",
    "                        output_shape=len(train_data.classes)).to(device)\n",
    "\n"
   ]
  },
  {
   "cell_type": "code",
   "execution_count": 22,
   "metadata": {},
   "outputs": [
    {
     "data": {
      "text/plain": [
       "torch.Size([3, 64, 64])"
      ]
     },
     "execution_count": 22,
     "metadata": {},
     "output_type": "execute_result"
    }
   ],
   "source": [
    "# creat an image tensor of batch 32 for testing\n",
    "\n",
    "images = torch.rand(32,3,64,64)\n",
    "test_image = images[0]\n",
    "test_image.shape"
   ]
  },
  {
   "cell_type": "code",
   "execution_count": 23,
   "metadata": {},
   "outputs": [
    {
     "data": {
      "text/plain": [
       "torch.Size([64, 64, 64])"
      ]
     },
     "execution_count": 23,
     "metadata": {},
     "output_type": "execute_result"
    }
   ],
   "source": [
    "# create a conv2d layer\n",
    "conv_layer = nn.Conv2d(in_channels=3,\n",
    "                            out_channels=64,\n",
    "                            kernel_size=3,\n",
    "                            stride=1,\n",
    "                            padding=1)\n",
    "\n",
    "\n",
    "image_after_conv_layer  = conv_layer(test_image)\n",
    "image_after_conv_layer.shape"
   ]
  },
  {
   "cell_type": "code",
   "execution_count": 24,
   "metadata": {},
   "outputs": [
    {
     "data": {
      "text/plain": [
       "torch.Size([64, 32, 32])"
      ]
     },
     "execution_count": 24,
     "metadata": {},
     "output_type": "execute_result"
    }
   ],
   "source": [
    "# creat a maxpool layer\n",
    "max_layer = nn.MaxPool2d(kernel_size=2)\n",
    "\n",
    "max_layer(image_after_conv_layer).shape"
   ]
  },
  {
   "cell_type": "code",
   "execution_count": 25,
   "metadata": {},
   "outputs": [
    {
     "data": {
      "text/plain": [
       "<matplotlib.image.AxesImage at 0x157b239d0>"
      ]
     },
     "execution_count": 25,
     "metadata": {},
     "output_type": "execute_result"
    },
    {
     "data": {
      "image/png": "[encoded data removed]",
      "text/plain": [
       "<Figure size 640x480 with 1 Axes>"
      ]
     },
     "metadata": {},
     "output_type": "display_data"
    }
   ],
   "source": [
    "# get a fashion image\n",
    "import matplotlib.pyplot as plt\n",
    "\n",
    "image = train_data[0][0]\n",
    "\n",
    "plt.imshow(image.squeeze(), cmap=\"gray\")"
   ]
  },
  {
   "cell_type": "code",
   "execution_count": 26,
   "metadata": {},
   "outputs": [],
   "source": [
    "image = image.type(torch.float)"
   ]
  },
  {
   "cell_type": "code",
   "execution_count": 27,
   "metadata": {},
   "outputs": [
    {
     "data": {
      "text/plain": [
       "tensor([[ 0.0246, -0.0644,  0.0551, -0.0360, -0.0139,  0.0113, -0.0014, -0.0075,\n",
       "          0.0213,  0.0076]], grad_fn=<AddmmBackward0>)"
      ]
     },
     "execution_count": 27,
     "metadata": {},
     "output_type": "execute_result"
    }
   ],
   "source": [
    "model_2(image.unsqueeze(dim=1))\n"
   ]
  },
  {
   "cell_type": "code",
   "execution_count": 28,
   "metadata": {},
   "outputs": [
    {
     "data": {
      "text/plain": [
       "'2.6.0'"
      ]
     },
     "execution_count": 28,
     "metadata": {},
     "output_type": "execute_result"
    }
   ],
   "source": [
    "torch.__version__"
   ]
  },
  {
   "cell_type": "code",
   "execution_count": 29,
   "metadata": {},
   "outputs": [
    {
     "data": {
      "text/plain": [
       "torch.Size([1, 1, 28, 28])"
      ]
     },
     "execution_count": 29,
     "metadata": {},
     "output_type": "execute_result"
    }
   ],
   "source": [
    "image.unsqueeze(dim=1).shape"
   ]
  },
  {
   "cell_type": "code",
   "execution_count": 30,
   "metadata": {},
   "outputs": [],
   "source": [
    "# Add loss and optimizer\n",
    "from helper import  accuracy_fn\n",
    "\n",
    "loss_fn = nn.CrossEntropyLoss()\n",
    "\n",
    "optimizer = torch.optim.SGD(model_2.parameters(), lr=0.1)"
   ]
  },
  {
   "cell_type": "code",
   "execution_count": 31,
   "metadata": {},
   "outputs": [],
   "source": [
    "from torch.utils.data import DataLoader\n",
    "\n",
    "train_data_loader = DataLoader(train_data, shuffle=True, batch_size=32)\n",
    "test_data_loader = DataLoader(test_data, batch_size=32)"
   ]
  },
  {
   "cell_type": "code",
   "execution_count": 32,
   "metadata": {},
   "outputs": [
    {
     "name": "stderr",
     "output_type": "stream",
     "text": [
      "  0%|          | 0/4 [00:00<?, ?it/s]"
     ]
    },
    {
     "name": "stdout",
     "output_type": "stream",
     "text": [
      "Epochs : 0 \n",
      "----\n",
      "Look at 0 / 60000 samples\n",
      "Look at 12800 / 60000 samples\n",
      "Look at 25600 / 60000 samples\n",
      "Look at 38400 / 60000 samples\n",
      "Look at 51200 / 60000 samples\n",
      "Train loss : 0.5971809029579163 | Train Acc : 0.05 \n"
     ]
    },
    {
     "name": "stderr",
     "output_type": "stream",
     "text": [
      " 25%|██▌       | 1/4 [00:17<00:51, 17.31s/it]"
     ]
    },
    {
     "name": "stdout",
     "output_type": "stream",
     "text": [
      "Test loss : 0.39271458983421326 |  Test acc : 86.07228434504792\n",
      "Epochs : 1 \n",
      "----\n",
      "Look at 0 / 60000 samples\n",
      "Look at 12800 / 60000 samples\n",
      "Look at 25600 / 60000 samples\n",
      "Look at 38400 / 60000 samples\n",
      "Look at 51200 / 60000 samples\n",
      "Train loss : 0.3610095679759979 | Train Acc : 0.043333333333333335 \n"
     ]
    },
    {
     "name": "stderr",
     "output_type": "stream",
     "text": [
      " 50%|█████     | 2/4 [00:35<00:35, 17.63s/it]"
     ]
    },
    {
     "name": "stdout",
     "output_type": "stream",
     "text": [
      "Test loss : 0.35492029786109924 |  Test acc : 86.88099041533546\n",
      "Epochs : 2 \n",
      "----\n",
      "Look at 0 / 60000 samples\n",
      "Look at 12800 / 60000 samples\n",
      "Look at 25600 / 60000 samples\n",
      "Look at 38400 / 60000 samples\n",
      "Look at 51200 / 60000 samples\n",
      "Train loss : 0.32422730326652527 | Train Acc : 0.04833333333333333 \n"
     ]
    },
    {
     "name": "stderr",
     "output_type": "stream",
     "text": [
      " 75%|███████▌  | 3/4 [00:52<00:17, 17.64s/it]"
     ]
    },
    {
     "name": "stdout",
     "output_type": "stream",
     "text": [
      "Test loss : 0.32574188709259033 |  Test acc : 88.11900958466454\n",
      "Epochs : 3 \n",
      "----\n",
      "Look at 0 / 60000 samples\n",
      "Look at 12800 / 60000 samples\n",
      "Look at 25600 / 60000 samples\n",
      "Look at 38400 / 60000 samples\n",
      "Look at 51200 / 60000 samples\n",
      "Train loss : 0.3016802668571472 | Train Acc : 0.04666666666666667 \n"
     ]
    },
    {
     "name": "stderr",
     "output_type": "stream",
     "text": [
      "100%|██████████| 4/4 [01:12<00:00, 18.02s/it]"
     ]
    },
    {
     "name": "stdout",
     "output_type": "stream",
     "text": [
      "Test loss : 0.328076034784317 |  Test acc : 87.96924920127796\n",
      "Total time taken : 72.06735833400012\n"
     ]
    },
    {
     "name": "stderr",
     "output_type": "stream",
     "text": [
      "\n"
     ]
    }
   ],
   "source": [
    "torch.manual_seed(42)\n",
    "torch.cuda.manual_seed(42)\n",
    "\n",
    "from timeit import default_timer as timer \n",
    "from tqdm.auto import tqdm\n",
    "from train_eval_batch import train_step, test_step\n",
    "\n",
    "start_time = timer()\n",
    "\n",
    "epochs = 4\n",
    "\n",
    "for epoch in tqdm(range(epochs)):\n",
    "    print(f\"Epochs : {epoch} \\n----\")\n",
    "    \n",
    "    train_step(model=model_2,\n",
    "               data_loader=train_data_loader,\n",
    "               optimizer=optimizer,\n",
    "               loss_fn=loss_fn,\n",
    "               accuracy_fn=accuracy_fn,\n",
    "               )\n",
    "    \n",
    "    test_step(model=model_2,\n",
    "              data_loader=test_data_loader,\n",
    "              loss_fn=loss_fn,\n",
    "              accuracy_fn=accuracy_fn)\n",
    "    \n",
    "\n",
    "end_time = timer()\n",
    "\n",
    "print(f\"Total time taken : {end_time-start_time}\")\n",
    "    \n",
    "    \n",
    "    \n",
    "    \n",
    "    \n",
    "\n"
   ]
  },
  {
   "cell_type": "code",
   "execution_count": null,
   "metadata": {},
   "outputs": [],
   "source": [
    "# evaluate the model\n",
    "\n",
    "def make_predition(model:nn.Module,\n",
    "                   data: list,\n",
    "                   device = device):\n",
    "    \n",
    "    \n",
    "    return 0\n",
    "    "
   ]
  },
  {
   "cell_type": "code",
   "execution_count": 70,
   "metadata": {},
   "outputs": [
    {
     "name": "stdout",
     "output_type": "stream",
     "text": [
      "Label is :  5\n",
      "tensor(5)\n"
     ]
    }
   ],
   "source": [
    "model_2.eval()\n",
    "ims = train_data[8][0].unsqueeze(dim=1)\n",
    "print(\"Label is : \",train_data[8][1] )\n",
    "\n",
    "with torch.inference_mode():\n",
    "    logits = model_2(ims).squeeze()\n",
    "    d = torch.argmax(logits, dim=0)\n",
    "    print(d)"
   ]
  },
  {
   "cell_type": "code",
   "execution_count": 60,
   "metadata": {},
   "outputs": [
    {
     "data": {
      "text/plain": [
       "<matplotlib.image.AxesImage at 0x30202e350>"
      ]
     },
     "execution_count": 60,
     "metadata": {},
     "output_type": "execute_result"
    },
    {
     "data": {
      "image/png": "[encoded data removed]",
      "text/plain": [
       "<Figure size 640x480 with 1 Axes>"
      ]
     },
     "metadata": {},
     "output_type": "display_data"
    }
   ],
   "source": [
    "plt.imshow(ims.squeeze())"
   ]
  },
  {
   "cell_type": "code",
   "execution_count": 54,
   "metadata": {},
   "outputs": [
    {
     "data": {
      "text/plain": [
       "['T-shirt/top',\n",
       " 'Trouser',\n",
       " 'Pullover',\n",
       " 'Dress',\n",
       " 'Coat',\n",
       " 'Sandal',\n",
       " 'Shirt',\n",
       " 'Sneaker',\n",
       " 'Bag',\n",
       " 'Ankle boot']"
      ]
     },
     "execution_count": 54,
     "metadata": {},
     "output_type": "execute_result"
    }
   ],
   "source": [
    "train_data.classes"
   ]
  },
  {
   "cell_type": "code",
   "execution_count": 74,
   "metadata": {},
   "outputs": [
    {
     "name": "stderr",
     "output_type": "stream",
     "text": [
      "100%|██████████| 313/313 [00:00<00:00, 496.31it/s]\n"
     ]
    },
    {
     "data": {
      "text/plain": [
       "313"
      ]
     },
     "execution_count": 74,
     "metadata": {},
     "output_type": "execute_result"
    }
   ],
   "source": [
    "# do apredition on entire test dataset\n",
    "model_2.eval()\n",
    "\n",
    "pred_list = []\n",
    "\n",
    "with torch.inference_mode():\n",
    "    for X,y in tqdm(test_data_loader):\n",
    "        logits = model_2(X)\n",
    "        preds = torch.softmax(logits, dim=0).argmax(dim=1)\n",
    "        pred_list.append(preds)\n",
    "        \n",
    "len(pred_list)"
   ]
  },
  {
   "cell_type": "code",
   "execution_count": 75,
   "metadata": {},
   "outputs": [
    {
     "data": {
      "text/plain": [
       "[tensor([9, 2, 1, 1, 6, 1, 4, 6, 5, 7, 4, 5, 5, 3, 4, 1, 2, 6, 8, 0, 2, 7, 7, 5,\n",
       "         1, 6, 6, 3, 9, 3, 8, 8]),\n",
       " tensor([3, 3, 8, 0, 7, 5, 7, 9, 6, 1, 3, 7, 6, 7, 2, 1, 4, 6, 6, 6, 5, 8, 2, 2,\n",
       "         8, 4, 8, 0, 7, 7, 8, 5]),\n",
       " tensor([1, 1, 3, 3, 7, 8, 7, 0, 2, 6, 4, 3, 1, 2, 8, 4, 3, 8, 5, 9, 5, 0, 3, 2,\n",
       "         0, 6, 5, 3, 6, 7, 1, 8]),\n",
       " tensor([6, 1, 6, 2, 3, 6, 7, 6, 7, 8, 5, 9, 9, 4, 2, 5, 7, 6, 5, 2, 8, 6, 7, 8,\n",
       "         0, 0, 9, 9, 3, 0, 8, 4]),\n",
       " tensor([1, 5, 4, 1, 9, 1, 8, 6, 6, 1, 2, 5, 1, 6, 0, 0, 1, 6, 1, 3, 2, 6, 4, 4,\n",
       "         1, 4, 5, 6, 4, 7, 9, 3]),\n",
       " tensor([7, 2, 3, 8, 0, 9, 4, 8, 4, 2, 6, 5, 6, 1, 2, 1, 3, 0, 8, 1, 0, 9, 3, 6,\n",
       "         7, 8, 8, 4, 4, 7, 1, 2]),\n",
       " tensor([3, 6, 3, 2, 8, 3, 6, 1, 1, 0, 2, 9, 2, 4, 0, 7, 9, 8, 4, 1, 8, 4, 1, 3,\n",
       "         1, 6, 7, 2, 8, 5, 6, 0]),\n",
       " tensor([7, 7, 6, 6, 7, 0, 7, 8, 9, 2, 9, 0, 5, 1, 3, 2, 5, 6, 9, 2, 2, 8, 6, 4,\n",
       "         6, 4, 9, 7, 3, 5, 5, 4]),\n",
       " tensor([8, 5, 2, 3, 0, 4, 8, 6, 0, 6, 3, 8, 9, 6, 1, 3, 0, 2, 3, 0, 8, 3, 7, 4,\n",
       "         0, 1, 6, 3, 6, 6, 6, 7]),\n",
       " tensor([8, 3, 7, 9, 5, 6, 5, 8, 1, 9, 8, 8, 3, 3, 6, 8, 0, 0, 2, 9, 7, 7, 1, 3,\n",
       "         6, 6, 2, 4, 7, 1, 6, 4]),\n",
       " tensor([8, 2, 6, 5, 6, 2, 7, 7, 7, 3, 3, 7, 0, 7, 1, 3, 7, 0, 2, 3, 4, 0, 3, 1,\n",
       "         0, 1, 9, 4, 9, 9, 1, 7]),\n",
       " tensor([8, 3, 6, 0, 2, 4, 8, 6, 1, 6, 2, 4, 4, 7, 3, 2, 2, 5, 0, 7, 9, 4, 0, 9,\n",
       "         3, 8, 3, 2, 5, 6, 0, 3]),\n",
       " tensor([5, 8, 1, 3, 2, 6, 6, 4, 9, 5, 2, 0, 4, 6, 1, 2, 0, 9, 7, 0, 3, 4, 3, 3,\n",
       "         2, 3, 3, 6, 7, 3, 9, 4]),\n",
       " tensor([2, 1, 5, 4, 5, 3, 8, 5, 8, 4, 4, 8, 9, 8, 6, 2, 4, 4, 2, 4, 1, 6, 1, 3,\n",
       "         0, 7, 8, 8, 4, 5, 3, 1]),\n",
       " tensor([9, 5, 3, 3, 6, 1, 6, 2, 9, 4, 6, 6, 6, 4, 2, 0, 0, 3, 3, 8, 2, 8, 9, 4,\n",
       "         0, 7, 6, 4, 6, 9, 4, 9]),\n",
       " tensor([5, 9, 3, 7, 5, 7, 8, 1, 6, 0, 6, 6, 8, 9, 7, 9, 1, 2, 7, 6, 6, 0, 5, 7,\n",
       "         1, 8, 2, 2, 6, 2, 4, 6]),\n",
       " tensor([6, 0, 9, 0, 7, 0, 9, 0, 2, 8, 3, 0, 7, 2, 6, 6, 8, 0, 2, 0, 5, 0, 7, 5,\n",
       "         0, 9, 4, 3, 4, 2, 7, 1]),\n",
       " tensor([3, 1, 2, 6, 2, 9, 6, 3, 5, 1, 3, 1, 9, 3, 4, 5, 3, 6, 2, 6, 4, 0, 0, 5,\n",
       "         8, 2, 3, 4, 6, 7, 7, 8]),\n",
       " tensor([9, 0, 2, 8, 7, 6, 7, 9, 3, 2, 0, 3, 5, 0, 1, 1, 5, 9, 4, 2, 5, 7, 8, 1,\n",
       "         2, 9, 8, 7, 1, 0, 9, 3]),\n",
       " tensor([6, 9, 0, 7, 6, 8, 2, 5, 1, 2, 3, 8, 2, 1, 6, 5, 3, 0, 7, 8, 0, 2, 9, 1,\n",
       "         1, 6, 1, 1, 0, 1, 4, 1]),\n",
       " tensor([7, 5, 8, 4, 9, 1, 0, 5, 4, 4, 4, 0, 0, 4, 5, 6, 0, 3, 5, 2, 1, 3, 1, 3,\n",
       "         6, 2, 3, 8, 2, 8, 6, 7]),\n",
       " tensor([0, 4, 1, 8, 5, 0, 8, 2, 7, 6, 8, 7, 6, 4, 4, 9, 6, 4, 5, 0, 9, 5, 3, 6,\n",
       "         6, 2, 1, 3, 8, 1, 4, 0]),\n",
       " tensor([9, 7, 9, 4, 8, 9, 1, 3, 7, 3, 0, 2, 6, 7, 1, 0, 0, 8, 7, 2, 6, 6, 4, 4,\n",
       "         1, 5, 9, 3, 0, 1, 6, 5]),\n",
       " tensor([6, 6, 4, 3, 3, 8, 1, 1, 8, 5, 7, 9, 8, 7, 2, 0, 7, 0, 8, 0, 9, 7, 6, 1,\n",
       "         6, 6, 4, 8, 6, 6, 3, 6]),\n",
       " tensor([8, 6, 0, 8, 9, 2, 4, 5, 9, 1, 4, 4, 9, 2, 3, 7, 9, 5, 8, 3, 7, 7, 3, 1,\n",
       "         1, 6, 9, 5, 3, 8, 4, 6]),\n",
       " tensor([9, 0, 8, 3, 2, 0, 0, 7, 1, 0, 9, 0, 5, 8, 5, 2, 7, 2, 8, 5, 9, 0, 3, 6,\n",
       "         7, 1, 7, 0, 7, 4, 6, 5]),\n",
       " tensor([8, 3, 5, 1, 2, 6, 1, 9, 8, 6, 7, 1, 3, 7, 8, 9, 9, 1, 8, 4, 5, 7, 1, 9,\n",
       "         8, 1, 0, 0, 6, 1, 7, 1]),\n",
       " tensor([1, 8, 7, 1, 5, 2, 2, 3, 3, 1, 1, 4, 9, 4, 3, 7, 7, 0, 8, 9, 8, 6, 1, 3,\n",
       "         4, 0, 0, 5, 9, 2, 0, 5]),\n",
       " tensor([5, 1, 5, 7, 8, 7, 9, 3, 6, 4, 0, 4, 0, 2, 0, 2, 5, 5, 1, 2, 0, 9, 3, 7,\n",
       "         8, 4, 8, 3, 4, 7, 0, 7]),\n",
       " tensor([4, 8, 6, 3, 4, 4, 3, 6, 9, 6, 2, 3, 9, 1, 8, 1, 7, 5, 5, 6, 6, 2, 1, 6,\n",
       "         5, 6, 0, 0, 2, 7, 8, 6]),\n",
       " tensor([2, 5, 9, 6, 8, 6, 3, 3, 6, 2, 9, 3, 7, 7, 1, 4, 2, 0, 5, 0, 9, 9, 8, 8,\n",
       "         2, 0, 2, 4, 6, 6, 3, 2]),\n",
       " tensor([3, 5, 0, 9, 3, 4, 7, 7, 0, 3, 5, 5, 6, 4, 5, 9, 6, 3, 7, 5, 1, 9, 8, 8,\n",
       "         9, 9, 2, 7, 2, 2, 3, 8]),\n",
       " tensor([7, 4, 4, 5, 2, 3, 6, 1, 4, 9, 3, 1, 6, 8, 0, 5, 7, 8, 2, 3, 3, 9, 6, 3,\n",
       "         6, 0, 4, 8, 0, 2, 8, 2]),\n",
       " tensor([6, 3, 2, 7, 0, 2, 1, 1, 3, 6, 6, 5, 9, 0, 1, 6, 5, 1, 4, 4, 8, 4, 7, 7,\n",
       "         3, 8, 3, 1, 9, 8, 1, 3]),\n",
       " tensor([3, 7, 5, 0, 0, 7, 8, 9, 2, 3, 5, 8, 4, 6, 3, 8, 6, 0, 5, 2, 7, 1, 0, 3,\n",
       "         5, 4, 8, 6, 2, 1, 1, 7]),\n",
       " tensor([9, 1, 2, 7, 0, 4, 8, 2, 1, 0, 1, 4, 4, 9, 6, 8, 4, 5, 9, 0, 3, 9, 6, 9,\n",
       "         8, 7, 4, 2, 2, 5, 1, 5]),\n",
       " tensor([0, 7, 2, 9, 3, 7, 0, 9, 3, 8, 4, 4, 7, 6, 3, 6, 2, 0, 7, 8, 4, 2, 6, 5,\n",
       "         5, 6, 3, 5, 5, 8, 1, 3]),\n",
       " tensor([7, 4, 3, 9, 6, 8, 7, 4, 2, 1, 2, 7, 7, 4, 9, 8, 5, 1, 3, 3, 2, 3, 9, 3,\n",
       "         1, 9, 3, 5, 5, 3, 0, 7]),\n",
       " tensor([0, 6, 3, 1, 3, 3, 3, 6, 7, 6, 4, 9, 5, 2, 9, 3, 3, 4, 4, 0, 6, 5, 2, 2,\n",
       "         8, 6, 3, 6, 6, 5, 4, 3]),\n",
       " tensor([8, 6, 2, 3, 0, 6, 3, 6, 8, 3, 8, 6, 0, 3, 4, 8, 8, 4, 5, 2, 2, 3, 0, 1,\n",
       "         7, 0, 9, 1, 7, 3, 5, 2]),\n",
       " tensor([2, 7, 3, 8, 8, 6, 8, 0, 7, 5, 5, 9, 5, 0, 0, 0, 3, 2, 4, 4, 2, 7, 1, 3,\n",
       "         4, 0, 6, 5, 1, 6, 7, 3]),\n",
       " tensor([6, 8, 0, 4, 8, 7, 4, 1, 6, 7, 4, 7, 0, 5, 6, 8, 5, 2, 2, 8, 9, 8, 4, 3,\n",
       "         0, 0, 8, 3, 0, 7, 4, 4]),\n",
       " tensor([8, 1, 3, 6, 1, 9, 2, 1, 6, 4, 7, 9, 2, 6, 0, 4, 4, 2, 4, 5, 0, 2, 8, 3,\n",
       "         7, 4, 4, 0, 0, 5, 4, 8]),\n",
       " tensor([2, 4, 3, 0, 2, 1, 7, 9, 5, 4, 7, 2, 2, 7, 3, 3, 1, 3, 2, 6, 6, 1, 9, 6,\n",
       "         4, 7, 1, 0, 6, 5, 8, 4]),\n",
       " tensor([2, 7, 9, 8, 0, 7, 9, 5, 1, 2, 9, 8, 8, 3, 9, 9, 1, 2, 7, 8, 0, 1, 7, 2,\n",
       "         7, 1, 1, 8, 5, 6, 4, 8]),\n",
       " tensor([9, 5, 5, 2, 3, 9, 3, 8, 5, 6, 6, 3, 6, 5, 7, 6, 5, 2, 6, 4, 6, 7, 6, 0,\n",
       "         5, 1, 7, 2, 3, 6, 8, 9]),\n",
       " tensor([8, 7, 1, 2, 8, 2, 9, 7, 5, 6, 0, 0, 7, 1, 2, 0, 9, 3, 6, 4, 4, 3, 0, 0,\n",
       "         6, 3, 6, 1, 3, 5, 4, 5]),\n",
       " tensor([0, 9, 1, 1, 8, 2, 9, 5, 0, 5, 4, 6, 7, 1, 1, 5, 3, 8, 7, 8, 3, 8, 9, 2,\n",
       "         2, 1, 1, 3, 5, 6, 7, 1]),\n",
       " tensor([9, 9, 2, 4, 7, 0, 1, 3, 9, 6, 3, 7, 2, 8, 1, 8, 0, 7, 9, 8, 5, 8, 2, 6,\n",
       "         4, 0, 6, 5, 8, 3, 8, 5]),\n",
       " tensor([5, 7, 3, 7, 0, 7, 0, 2, 2, 5, 3, 5, 1, 1, 7, 7, 6, 3, 0, 4, 2, 8, 6, 3,\n",
       "         1, 4, 9, 9, 4, 5, 2, 2]),\n",
       " tensor([7, 8, 6, 7, 9, 1, 2, 9, 4, 5, 3, 6, 3, 3, 1, 8, 5, 5, 3, 8, 0, 6, 6, 3,\n",
       "         6, 0, 2, 5, 3, 2, 8, 3]),\n",
       " tensor([9, 7, 3, 1, 7, 5, 8, 8, 2, 3, 0, 4, 4, 6, 5, 7, 0, 6, 0, 7, 7, 3, 9, 4,\n",
       "         5, 9, 7, 3, 7, 2, 4, 5]),\n",
       " tensor([1, 3, 5, 4, 5, 0, 4, 4, 1, 6, 3, 8, 4, 7, 9, 4, 3, 1, 7, 2, 3, 8, 6, 3,\n",
       "         9, 7, 3, 3, 8, 8, 8, 7]),\n",
       " tensor([1, 1, 6, 3, 1, 6, 3, 4, 9, 5, 0, 0, 6, 9, 4, 9, 0, 6, 3, 8, 9, 2, 5, 4,\n",
       "         8, 0, 7, 2, 3, 6, 4, 5]),\n",
       " tensor([6, 1, 9, 6, 4, 2, 9, 9, 0, 8, 3, 6, 6, 6, 0, 4, 2, 6, 6, 5, 0, 2, 7, 8,\n",
       "         7, 4, 6, 6, 0, 5, 2, 4]),\n",
       " tensor([2, 9, 5, 2, 6, 7, 0, 1, 9, 5, 5, 0, 7, 7, 5, 0, 5, 6, 3, 4, 7, 9, 8, 2,\n",
       "         4, 7, 3, 3, 7, 7, 7, 8]),\n",
       " tensor([2, 8, 8, 7, 6, 8, 8, 5, 1, 3, 0, 4, 9, 9, 8, 3, 7, 0, 3, 4, 8, 3, 3, 1,\n",
       "         8, 8, 1, 8, 7, 2, 8, 4]),\n",
       " tensor([5, 7, 3, 7, 5, 5, 4, 0, 7, 6, 3, 2, 6, 4, 9, 9, 0, 6, 6, 8, 3, 8, 6, 4,\n",
       "         4, 1, 8, 2, 6, 5, 0, 4]),\n",
       " tensor([4, 3, 0, 0, 1, 6, 8, 4, 9, 0, 7, 6, 7, 7, 1, 5, 8, 7, 2, 9, 9, 1, 2, 6,\n",
       "         1, 1, 1, 8, 8, 1, 3, 7]),\n",
       " tensor([5, 2, 0, 8, 4, 8, 9, 4, 1, 3, 3, 9, 8, 1, 3, 3, 8, 0, 9, 9, 7, 6, 0, 4,\n",
       "         4, 1, 1, 7, 7, 4, 2, 0]),\n",
       " tensor([3, 6, 4, 6, 3, 9, 2, 4, 4, 2, 3, 8, 7, 1, 8, 5, 5, 9, 9, 6, 6, 4, 9, 6,\n",
       "         4, 3, 5, 5, 0, 6, 1, 0]),\n",
       " tensor([3, 7, 7, 3, 7, 4, 5, 7, 9, 8, 9, 1, 4, 8, 3, 2, 6, 6, 0, 2, 3, 8, 6, 8,\n",
       "         6, 0, 8, 8, 4, 2, 9, 3]),\n",
       " tensor([2, 0, 8, 5, 9, 6, 3, 1, 1, 9, 5, 1, 3, 3, 6, 0, 8, 4, 1, 3, 8, 8, 6, 7,\n",
       "         5, 6, 6, 7, 3, 3, 2, 4]),\n",
       " tensor([6, 5, 5, 6, 6, 3, 9, 1, 1, 7, 3, 8, 7, 2, 2, 9, 3, 9, 9, 0, 1, 7, 1, 3,\n",
       "         8, 1, 6, 9, 3, 4, 0, 0]),\n",
       " tensor([7, 6, 9, 9, 5, 5, 7, 0, 9, 3, 3, 6, 9, 8, 4, 2, 6, 3, 9, 4, 3, 6, 7, 4,\n",
       "         0, 0, 8, 1, 8, 7, 3, 4]),\n",
       " tensor([5, 2, 2, 9, 1, 9, 4, 9, 1, 3, 2, 8, 8, 7, 7, 7, 7, 2, 6, 0, 7, 5, 8, 5,\n",
       "         3, 0, 4, 3, 9, 2, 4, 3]),\n",
       " tensor([3, 9, 3, 1, 2, 2, 2, 3, 8, 5, 7, 6, 4, 4, 1, 2, 8, 5, 4, 8, 8, 1, 5, 9,\n",
       "         3, 6, 6, 8, 0, 1, 8, 7]),\n",
       " tensor([4, 6, 7, 7, 3, 6, 4, 3, 4, 7, 8, 7, 2, 8, 0, 8, 7, 6, 6, 6, 7, 0, 9, 9,\n",
       "         3, 1, 5, 9, 3, 1, 0, 3]),\n",
       " tensor([3, 8, 9, 7, 9, 8, 3, 8, 9, 3, 7, 9, 3, 6, 0, 0, 5, 7, 7, 2, 4, 8, 3, 1,\n",
       "         1, 9, 4, 3, 9, 5, 8, 7]),\n",
       " tensor([2, 4, 9, 0, 2, 1, 8, 7, 1, 5, 0, 5, 5, 0, 3, 0, 0, 3, 3, 7, 4, 2, 6, 8,\n",
       "         5, 9, 2, 1, 3, 5, 5, 8]),\n",
       " tensor([5, 3, 7, 6, 4, 3, 9, 6, 0, 0, 9, 1, 4, 3, 1, 5, 3, 8, 5, 1, 1, 2, 9, 4,\n",
       "         0, 5, 6, 8, 6, 2, 9, 8]),\n",
       " tensor([4, 4, 8, 3, 8, 0, 4, 2, 0, 4, 8, 5, 6, 9, 0, 9, 5, 8, 0, 9, 1, 4, 7, 2,\n",
       "         1, 6, 6, 3, 6, 5, 2, 4]),\n",
       " tensor([8, 5, 5, 2, 6, 6, 8, 3, 3, 1, 9, 2, 7, 7, 2, 6, 4, 8, 3, 4, 8, 5, 6, 8,\n",
       "         3, 3, 1, 4, 4, 0, 4, 9]),\n",
       " tensor([6, 4, 1, 9, 9, 8, 1, 6, 2, 3, 3, 3, 2, 5, 9, 2, 6, 8, 7, 6, 3, 6, 6, 4,\n",
       "         5, 7, 5, 0, 7, 9, 1, 2]),\n",
       " tensor([4, 8, 9, 3, 5, 2, 0, 2, 6, 7, 8, 9, 1, 8, 2, 5, 5, 3, 1, 1, 8, 8, 3, 6,\n",
       "         7, 0, 1, 8, 6, 0, 2, 9]),\n",
       " tensor([8, 8, 8, 8, 6, 9, 1, 8, 2, 2, 7, 7, 0, 5, 1, 1, 0, 6, 4, 3, 0, 2, 3, 5,\n",
       "         1, 2, 3, 3, 4, 2, 5, 6]),\n",
       " tensor([9, 8, 3, 3, 1, 0, 2, 1, 4, 4, 6, 2, 2, 7, 0, 6, 7, 5, 0, 6, 0, 7, 0, 3,\n",
       "         9, 7, 3, 6, 1, 9, 6, 1]),\n",
       " tensor([0, 4, 5, 4, 1, 4, 8, 5, 9, 4, 5, 3, 3, 8, 3, 0, 6, 8, 9, 0, 5, 6, 2, 6,\n",
       "         7, 3, 2, 2, 8, 7, 7, 2]),\n",
       " tensor([3, 1, 6, 3, 6, 2, 7, 4, 1, 2, 6, 4, 4, 2, 8, 5, 0, 8, 5, 6, 7, 8, 1, 5,\n",
       "         9, 8, 6, 9, 0, 6, 3, 7]),\n",
       " tensor([5, 7, 9, 6, 0, 7, 1, 5, 5, 9, 8, 4, 4, 2, 4, 5, 9, 7, 4, 2, 2, 9, 8, 3,\n",
       "         2, 1, 3, 7, 1, 8, 7, 7]),\n",
       " tensor([1, 8, 9, 3, 7, 7, 7, 1, 7, 4, 4, 6, 2, 4, 5, 2, 8, 9, 6, 8, 0, 0, 7, 7,\n",
       "         5, 0, 1, 9, 3, 6, 4, 9]),\n",
       " tensor([0, 6, 6, 9, 1, 0, 5, 0, 9, 2, 8, 0, 3, 6, 0, 7, 4, 8, 7, 4, 1, 7, 8, 0,\n",
       "         4, 0, 4, 4, 1, 8, 6, 9]),\n",
       " tensor([2, 9, 4, 5, 2, 3, 3, 8, 8, 2, 0, 7, 2, 4, 0, 3, 1, 3, 8, 1, 7, 7, 2, 6,\n",
       "         3, 1, 2, 7, 6, 6, 0, 3]),\n",
       " tensor([4, 7, 2, 6, 3, 6, 3, 0, 9, 7, 3, 5, 4, 9, 2, 4, 5, 0, 6, 8, 4, 0, 4, 4,\n",
       "         0, 6, 1, 6, 4, 6, 7, 1]),\n",
       " tensor([0, 6, 4, 1, 1, 5, 6, 3, 2, 3, 3, 1, 7, 2, 9, 8, 8, 4, 5, 5, 6, 7, 2, 9,\n",
       "         0, 0, 5, 3, 7, 2, 1, 1]),\n",
       " tensor([8, 0, 2, 0, 5, 9, 6, 3, 8, 0, 0, 4, 6, 2, 4, 8, 3, 4, 2, 1, 9, 2, 7, 9,\n",
       "         2, 7, 6, 1, 5, 8, 8, 2]),\n",
       " tensor([2, 4, 6, 3, 1, 6, 4, 0, 3, 9, 8, 4, 0, 3, 4, 3, 9, 7, 1, 1, 7, 5, 1, 9,\n",
       "         2, 4, 2, 3, 8, 6, 7, 1]),\n",
       " tensor([3, 0, 7, 3, 5, 8, 1, 4, 2, 3, 4, 6, 8, 8, 4, 6, 1, 8, 9, 3, 0, 6, 6, 2,\n",
       "         9, 7, 3, 7, 0, 1, 4, 5]),\n",
       " tensor([9, 6, 0, 5, 0, 5, 8, 7, 4, 6, 2, 8, 6, 0, 9, 4, 3, 5, 8, 1, 1, 2, 6, 0,\n",
       "         4, 7, 6, 2, 3, 3, 9, 7]),\n",
       " tensor([4, 3, 3, 1, 8, 1, 5, 4, 0, 6, 7, 9, 3, 4, 7, 1, 7, 4, 1, 6, 2, 6, 4, 7,\n",
       "         6, 4, 9, 3, 2, 5, 0, 8]),\n",
       " tensor([6, 2, 6, 7, 4, 4, 1, 1, 0, 3, 5, 5, 2, 6, 4, 3, 8, 8, 3, 4, 3, 4, 2, 9,\n",
       "         6, 3, 9, 6, 6, 6, 6, 4]),\n",
       " tensor([5, 4, 9, 8, 1, 6, 3, 2, 4, 9, 4, 3, 5, 1, 2, 6, 0, 1, 1, 0, 2, 6, 7, 7,\n",
       "         0, 1, 2, 4, 3, 7, 2, 1]),\n",
       " tensor([1, 7, 7, 8, 7, 6, 5, 3, 7, 2, 0, 9, 6, 1, 6, 2, 2, 5, 8, 5, 2, 7, 8, 4,\n",
       "         6, 9, 0, 8, 1, 3, 8, 2]),\n",
       " tensor([8, 2, 0, 2, 3, 8, 7, 8, 2, 2, 6, 6, 0, 4, 5, 3, 4, 3, 1, 9, 7, 3, 6, 6,\n",
       "         1, 4, 2, 7, 7, 1, 8, 3]),\n",
       " tensor([0, 7, 9, 8, 7, 2, 7, 9, 7, 2, 2, 6, 6, 3, 3, 9, 1, 1, 4, 8, 0, 9, 7, 5,\n",
       "         4, 8, 8, 3, 6, 3, 6, 4]),\n",
       " tensor([6, 6, 9, 9, 2, 4, 8, 4, 2, 8, 3, 6, 6, 1, 3, 0, 1, 8, 4, 1, 5, 4, 1, 5,\n",
       "         8, 0, 7, 7, 7, 5, 6, 5]),\n",
       " tensor([5, 3, 6, 9, 8, 4, 5, 1, 6, 6, 6, 4, 3, 7, 7, 9, 9, 2, 5, 8, 5, 8, 5, 3,\n",
       "         0, 9, 7, 2, 0, 6, 8, 6]),\n",
       " tensor([0, 5, 3, 7, 6, 5, 4, 9, 0, 3, 4, 0, 2, 7, 8, 1, 3, 8, 1, 5, 3, 6, 1, 1,\n",
       "         6, 6, 9, 8, 2, 8, 2, 7]),\n",
       " tensor([7, 1, 3, 0, 3, 0, 7, 8, 7, 6, 5, 2, 6, 7, 5, 5, 8, 9, 7, 3, 2, 4, 8, 3,\n",
       "         9, 5, 7, 6, 2, 6, 7, 3]),\n",
       " tensor([8, 5, 1, 8, 9, 2, 2, 1, 2, 2, 7, 4, 0, 4, 4, 7, 9, 7, 9, 2, 2, 8, 2, 6,\n",
       "         0, 6, 3, 3, 1, 5, 2, 7]),\n",
       " tensor([5, 3, 7, 6, 2, 3, 5, 1, 1, 2, 7, 3, 8, 8, 7, 5, 6, 9, 5, 5, 4, 0, 7, 1,\n",
       "         4, 6, 0, 9, 9, 6, 6, 8]),\n",
       " tensor([6, 5, 7, 8, 2, 2, 9, 6, 6, 6, 8, 1, 6, 4, 8, 0, 7, 5, 9, 9, 9, 5, 5, 2,\n",
       "         7, 6, 2, 2, 0, 3, 4, 2]),\n",
       " tensor([0, 8, 9, 4, 5, 4, 3, 1, 2, 5, 7, 0, 5, 6, 2, 8, 6, 3, 8, 6, 8, 7, 2, 7,\n",
       "         2, 3, 2, 5, 1, 2, 3, 4]),\n",
       " tensor([2, 4, 3, 9, 9, 6, 8, 0, 4, 0, 6, 1, 9, 3, 9, 0, 8, 6, 9, 4, 7, 9, 1, 5,\n",
       "         8, 1, 3, 6, 2, 6, 8, 3]),\n",
       " tensor([3, 3, 0, 0, 4, 3, 3, 1, 6, 8, 4, 9, 3, 0, 2, 5, 2, 8, 8, 6, 1, 2, 8, 9,\n",
       "         8, 5, 8, 7, 0, 7, 2, 7]),\n",
       " tensor([3, 8, 5, 8, 3, 6, 8, 5, 9, 9, 4, 0, 6, 7, 1, 8, 8, 8, 7, 2, 0, 9, 7, 9,\n",
       "         6, 9, 4, 1, 4, 7, 2, 5]),\n",
       " tensor([2, 6, 2, 9, 0, 7, 1, 9, 7, 2, 5, 3, 8, 4, 9, 3, 9, 5, 7, 5, 1, 3, 3, 6,\n",
       "         0, 7, 5, 3, 5, 5, 8, 7]),\n",
       " tensor([7, 4, 6, 5, 5, 3, 4, 8, 3, 0, 9, 2, 3, 2, 2, 9, 6, 6, 7, 1, 3, 8, 1, 4,\n",
       "         7, 8, 3, 6, 7, 2, 0, 2]),\n",
       " tensor([2, 3, 2, 3, 0, 5, 2, 3, 2, 2, 0, 0, 7, 4, 6, 2, 8, 3, 5, 1, 3, 9, 1, 2,\n",
       "         9, 3, 7, 4, 0, 0, 2, 5]),\n",
       " tensor([6, 3, 6, 6, 5, 1, 7, 9, 4, 6, 7, 3, 0, 2, 8, 1, 0, 9, 9, 7, 6, 4, 6, 9,\n",
       "         7, 7, 5, 6, 6, 7, 5, 3]),\n",
       " tensor([5, 5, 3, 8, 9, 7, 2, 1, 4, 7, 1, 3, 6, 3, 4, 2, 9, 4, 7, 7, 0, 5, 0, 8,\n",
       "         8, 2, 8, 5, 6, 0, 7, 3]),\n",
       " tensor([6, 6, 4, 5, 2, 0, 7, 7, 7, 1, 8, 2, 4, 8, 5, 4, 4, 8, 7, 7, 6, 7, 1, 6,\n",
       "         9, 5, 3, 9, 3, 5, 0, 7]),\n",
       " tensor([4, 6, 6, 1, 6, 5, 9, 3, 2, 8, 5, 7, 3, 1, 4, 6, 8, 1, 6, 5, 6, 9, 3, 3,\n",
       "         6, 6, 4, 6, 0, 6, 4, 6]),\n",
       " tensor([3, 2, 5, 8, 1, 1, 9, 4, 7, 0, 3, 1, 0, 0, 7, 7, 0, 7, 8, 0, 5, 6, 4, 3,\n",
       "         2, 9, 7, 2, 9, 5, 3, 7]),\n",
       " tensor([2, 6, 1, 9, 7, 8, 1, 0, 9, 3, 6, 7, 8, 6, 5, 6, 7, 9, 9, 7, 0, 4, 2, 3,\n",
       "         4, 0, 7, 5, 3, 9, 4, 8]),\n",
       " tensor([8, 6, 0, 4, 1, 9, 3, 3, 5, 0, 8, 5, 9, 0, 8, 5, 5, 9, 8, 6, 0, 7, 3, 8,\n",
       "         6, 2, 0, 7, 6, 8, 1, 9]),\n",
       " tensor([2, 6, 2, 4, 6, 8, 7, 7, 3, 9, 3, 9, 6, 0, 2, 6, 9, 0, 3, 2, 5, 5, 0, 2,\n",
       "         6, 4, 1, 3, 1, 0, 7, 8]),\n",
       " tensor([8, 9, 7, 6, 5, 5, 3, 6, 0, 4, 0, 3, 6, 8, 8, 8, 0, 2, 3, 2, 8, 8, 1, 4,\n",
       "         1, 1, 6, 3, 2, 2, 9, 0]),\n",
       " tensor([0, 4, 1, 3, 2, 5, 0, 6, 7, 9, 9, 2, 5, 2, 9, 9, 8, 4, 2, 3, 2, 0, 9, 6,\n",
       "         2, 4, 3, 8, 2, 2, 6, 5]),\n",
       " tensor([0, 6, 7, 3, 7, 8, 8, 2, 4, 8, 8, 6, 1, 5, 8, 9, 8, 7, 6, 0, 3, 0, 3, 0,\n",
       "         7, 3, 9, 9, 1, 5, 9, 3]),\n",
       " tensor([1, 7, 6, 1, 0, 5, 3, 8, 6, 4, 1, 7, 0, 5, 0, 4, 1, 7, 1, 7, 9, 6, 3, 9,\n",
       "         2, 2, 9, 3, 5, 2, 8, 2]),\n",
       " tensor([4, 7, 7, 4, 6, 0, 5, 5, 3, 6, 2, 7, 6, 8, 5, 6, 9, 1, 3, 1, 4, 5, 9, 3,\n",
       "         7, 0, 3, 5, 6, 1, 5, 8]),\n",
       " tensor([5, 6, 0, 9, 1, 7, 1, 7, 1, 2, 0, 3, 4, 0, 2, 0, 3, 3, 8, 8, 0, 3, 4, 8,\n",
       "         1, 1, 3, 3, 2, 2, 1, 8]),\n",
       " tensor([3, 4, 0, 6, 4, 2, 3, 9, 2, 3, 0, 4, 7, 7, 1, 6, 1, 0, 0, 0, 8, 5, 1, 0,\n",
       "         5, 2, 8, 1, 7, 1, 6, 4]),\n",
       " tensor([9, 4, 6, 1, 5, 6, 3, 5, 8, 7, 7, 7, 2, 7, 5, 6, 6, 2, 6, 6, 6, 9, 9, 5,\n",
       "         8, 0, 4, 4, 1, 3, 7, 6]),\n",
       " tensor([6, 0, 9, 8, 5, 3, 0, 7, 1, 9, 7, 8, 4, 6, 9, 9, 1, 2, 6, 3, 2, 4, 5, 1,\n",
       "         6, 6, 8, 3, 4, 8, 3, 4]),\n",
       " tensor([0, 0, 3, 6, 7, 4, 4, 1, 7, 3, 6, 7, 9, 9, 1, 8, 8, 8, 1, 4, 6, 1, 2, 8,\n",
       "         2, 5, 7, 8, 0, 6, 2, 7]),\n",
       " tensor([2, 9, 1, 6, 8, 7, 8, 2, 4, 9, 2, 5, 5, 9, 9, 4, 4, 2, 1, 6, 3, 8, 7, 1,\n",
       "         1, 7, 5, 2, 7, 0, 3, 4]),\n",
       " tensor([4, 8, 4, 0, 6, 7, 3, 7, 3, 6, 3, 8, 3, 3, 2, 3, 2, 5, 5, 8, 0, 7, 0, 8,\n",
       "         9, 0, 2, 1, 2, 5, 1, 3]),\n",
       " tensor([4, 7, 6, 4, 9, 9, 1, 4, 3, 1, 0, 8, 0, 3, 3, 0, 2, 0, 4, 3, 0, 7, 2, 3,\n",
       "         4, 0, 8, 5, 4, 0, 1, 0]),\n",
       " tensor([2, 2, 6, 7, 9, 6, 4, 3, 3, 0, 8, 5, 4, 6, 0, 3, 3, 5, 2, 5, 1, 5, 5, 1,\n",
       "         7, 5, 2, 3, 8, 8, 0, 9]),\n",
       " tensor([0, 0, 3, 3, 2, 1, 8, 3, 4, 2, 1, 2, 0, 3, 6, 8, 5, 1, 7, 0, 2, 6, 3, 9,\n",
       "         8, 2, 7, 1, 0, 2, 6, 2]),\n",
       " tensor([3, 3, 7, 5, 0, 6, 2, 0, 8, 4, 2, 1, 8, 4, 8, 2, 9, 2, 6, 8, 5, 6, 7, 3,\n",
       "         2, 4, 0, 6, 4, 8, 5, 4]),\n",
       " tensor([1, 5, 2, 8, 2, 9, 3, 6, 3, 6, 4, 2, 7, 7, 9, 6, 2, 9, 8, 3, 5, 8, 7, 7,\n",
       "         0, 7, 7, 0, 7, 7, 2, 9]),\n",
       " tensor([7, 4, 2, 2, 4, 8, 0, 1, 9, 8, 0, 2, 6, 2, 3, 8, 0, 7, 6, 4, 3, 8, 1, 3,\n",
       "         8, 5, 3, 0, 3, 4, 8, 8]),\n",
       " tensor([9, 1, 3, 2, 1, 4, 8, 3, 4, 6, 7, 3, 9, 2, 9, 0, 4, 6, 5, 7, 0, 8, 1, 7,\n",
       "         5, 4, 9, 5, 7, 3, 2, 0]),\n",
       " tensor([9, 8, 7, 3, 7, 7, 4, 7, 5, 8, 8, 2, 4, 6, 2, 3, 8, 9, 7, 1, 3, 4, 2, 9,\n",
       "         7, 1, 4, 2, 6, 0, 7, 5]),\n",
       " tensor([4, 5, 2, 0, 7, 4, 9, 9, 0, 4, 3, 1, 5, 0, 0, 0, 8, 1, 5, 7, 7, 7, 9, 8,\n",
       "         0, 1, 0, 4, 6, 0, 9, 3]),\n",
       " tensor([6, 4, 4, 8, 6, 5, 4, 9, 0, 2, 8, 4, 8, 6, 3, 6, 1, 4, 3, 3, 8, 4, 9, 9,\n",
       "         0, 7, 9, 5, 3, 1, 5, 2]),\n",
       " tensor([8, 4, 9, 3, 1, 6, 0, 7, 2, 1, 9, 3, 2, 8, 3, 8, 4, 2, 5, 6, 9, 6, 1, 2,\n",
       "         0, 7, 9, 0, 1, 3, 7, 5]),\n",
       " tensor([1, 2, 1, 1, 3, 8, 3, 9, 5, 4, 6, 3, 7, 7, 7, 2, 3, 9, 3, 9, 6, 6, 0, 5,\n",
       "         6, 6, 7, 7, 0, 3, 2, 9]),\n",
       " tensor([6, 4, 0, 2, 7, 9, 6, 1, 1, 2, 0, 8, 8, 7, 3, 6, 7, 5, 7, 6, 1, 8, 1, 4,\n",
       "         9, 8, 9, 3, 1, 0, 3, 3]),\n",
       " tensor([3, 0, 6, 6, 1, 9, 7, 1, 2, 2, 5, 3, 6, 1, 7, 6, 7, 0, 2, 8, 8, 1, 4, 9,\n",
       "         7, 6, 6, 4, 9, 3, 9, 8]),\n",
       " tensor([5, 3, 8, 4, 7, 1, 4, 1, 9, 6, 8, 3, 2, 4, 8, 1, 1, 5, 8, 6, 1, 6, 2, 9,\n",
       "         0, 9, 5, 3, 9, 0, 6, 5]),\n",
       " tensor([6, 8, 3, 8, 0, 6, 9, 9, 1, 5, 3, 2, 6, 5, 3, 3, 3, 6, 7, 4, 0, 4, 1, 9,\n",
       "         5, 1, 7, 5, 5, 5, 9, 6]),\n",
       " tensor([8, 2, 6, 6, 4, 6, 4, 1, 1, 2, 2, 8, 4, 9, 0, 5, 2, 1, 3, 2, 3, 2, 4, 8,\n",
       "         3, 6, 9, 3, 2, 7, 7, 2]),\n",
       " tensor([6, 2, 6, 8, 9, 6, 6, 4, 7, 7, 9, 7, 3, 6, 9, 2, 7, 3, 0, 2, 0, 9, 4, 3,\n",
       "         3, 1, 9, 5, 8, 2, 3, 5]),\n",
       " tensor([0, 6, 4, 5, 2, 3, 5, 2, 7, 7, 6, 0, 9, 7, 1, 2, 4, 5, 3, 0, 2, 1, 4, 6,\n",
       "         5, 4, 8, 5, 7, 3, 0, 8]),\n",
       " tensor([3, 5, 2, 6, 9, 8, 9, 9, 8, 1, 7, 5, 0, 1, 5, 3, 3, 3, 3, 4, 3, 3, 6, 7,\n",
       "         8, 0, 9, 3, 3, 0, 4, 2]),\n",
       " tensor([7, 3, 5, 7, 3, 7, 8, 6, 6, 2, 2, 3, 1, 0, 7, 5, 0, 6, 4, 1, 1, 2, 7, 2,\n",
       "         3, 5, 9, 0, 4, 4, 3, 9]),\n",
       " tensor([9, 9, 2, 6, 9, 6, 3, 5, 3, 1, 4, 5, 0, 1, 8, 5, 8, 6, 6, 7, 8, 9, 2, 4,\n",
       "         6, 3, 2, 6, 4, 7, 9, 1]),\n",
       " tensor([9, 7, 4, 5, 6, 3, 2, 4, 5, 6, 1, 5, 8, 6, 4, 2, 9, 4, 7, 8, 3, 0, 2, 7,\n",
       "         7, 5, 9, 5, 7, 3, 8, 7]),\n",
       " tensor([5, 9, 7, 8, 2, 1, 3, 8, 0, 2, 6, 7, 9, 2, 4, 5, 2, 3, 4, 1, 1, 9, 0, 5,\n",
       "         5, 4, 6, 8, 9, 3, 5, 4]),\n",
       " tensor([0, 6, 5, 5, 8, 4, 8, 2, 7, 4, 9, 4, 9, 6, 9, 7, 3, 9, 7, 3, 2, 6, 2, 5,\n",
       "         7, 9, 2, 0, 2, 4, 1, 0]),\n",
       " tensor([3, 8, 4, 8, 6, 4, 2, 3, 5, 7, 7, 8, 5, 6, 3, 2, 1, 8, 3, 6, 7, 4, 2, 3,\n",
       "         0, 8, 3, 3, 4, 9, 0, 9]),\n",
       " tensor([7, 0, 1, 6, 3, 6, 3, 8, 6, 4, 5, 1, 3, 4, 1, 9, 3, 6, 0, 4, 2, 3, 1, 5,\n",
       "         3, 4, 8, 5, 7, 6, 6, 1]),\n",
       " tensor([1, 0, 6, 2, 5, 9, 6, 7, 2, 3, 6, 4, 6, 3, 3, 9, 4, 7, 0, 8, 6, 5, 6, 4,\n",
       "         0, 1, 3, 9, 4, 2, 5, 6]),\n",
       " tensor([5, 3, 2, 5, 6, 0, 6, 0, 2, 9, 1, 3, 3, 3, 8, 8, 6, 6, 1, 4, 9, 7, 2, 6,\n",
       "         7, 8, 7, 1, 2, 8, 7, 9]),\n",
       " tensor([5, 7, 0, 2, 9, 2, 5, 0, 7, 8, 1, 5, 2, 7, 4, 1, 4, 5, 9, 6, 5, 7, 7, 3,\n",
       "         8, 1, 8, 4, 5, 3, 0, 7]),\n",
       " tensor([6, 9, 5, 1, 3, 6, 9, 3, 4, 4, 5, 3, 4, 7, 9, 1, 2, 6, 2, 4, 6, 8, 7, 9,\n",
       "         9, 4, 8, 8, 9, 0, 5, 6]),\n",
       " tensor([3, 3, 8, 0, 4, 2, 0, 1, 4, 0, 2, 1, 5, 0, 6, 0, 0, 3, 4, 5, 6, 8, 7, 6,\n",
       "         0, 3, 1, 8, 0, 8, 9, 7]),\n",
       " tensor([7, 5, 8, 2, 8, 4, 4, 2, 5, 6, 7, 2, 7, 1, 0, 2, 4, 6, 9, 8, 3, 4, 9, 1,\n",
       "         9, 4, 7, 3, 5, 4, 3, 4]),\n",
       " tensor([2, 1, 0, 2, 4, 3, 7, 8, 4, 9, 8, 9, 0, 4, 3, 4, 5, 9, 5, 7, 6, 1, 3, 3,\n",
       "         7, 0, 9, 7, 6, 8, 3, 5]),\n",
       " tensor([5, 8, 1, 9, 4, 2, 2, 2, 1, 6, 3, 1, 2, 5, 3, 3, 1, 1, 7, 5, 2, 5, 9, 0,\n",
       "         8, 3, 6, 4, 2, 7, 0, 7]),\n",
       " tensor([3, 3, 2, 3, 7, 1, 6, 2, 3, 3, 0, 0, 6, 4, 8, 5, 0, 3, 0, 4, 7, 3, 3, 6,\n",
       "         0, 2, 4, 4, 1, 8, 1, 9]),\n",
       " tensor([3, 2, 6, 4, 2, 2, 3, 3, 5, 3, 5, 8, 3, 9, 7, 3, 0, 6, 1, 6, 1, 6, 7, 7,\n",
       "         2, 8, 9, 6, 1, 5, 6, 9]),\n",
       " tensor([4, 7, 9, 7, 9, 0, 1, 0, 9, 9, 5, 1, 7, 2, 9, 3, 0, 6, 8, 1, 7, 4, 3, 8,\n",
       "         4, 7, 0, 8, 9, 6, 8, 4]),\n",
       " tensor([5, 6, 4, 5, 9, 6, 0, 5, 3, 7, 7, 4, 4, 7, 1, 5, 8, 3, 7, 2, 7, 1, 8, 8,\n",
       "         8, 7, 8, 6, 0, 5, 7, 9]),\n",
       " tensor([8, 5, 6, 0, 6, 2, 3, 2, 3, 9, 9, 1, 9, 5, 8, 4, 4, 6, 4, 6, 7, 2, 8, 3,\n",
       "         0, 7, 8, 8, 3, 9, 9, 5]),\n",
       " tensor([9, 2, 6, 9, 7, 0, 7, 4, 9, 9, 2, 3, 9, 5, 3, 7, 0, 1, 4, 9, 1, 2, 8, 5,\n",
       "         1, 7, 9, 0, 3, 3, 0, 9]),\n",
       " tensor([3, 4, 3, 0, 0, 6, 9, 7, 3, 9, 8, 5, 6, 8, 8, 8, 5, 6, 4, 6, 5, 4, 2, 5,\n",
       "         4, 2, 7, 1, 6, 3, 4, 6]),\n",
       " tensor([8, 6, 4, 6, 7, 5, 5, 1, 5, 2, 3, 4, 2, 4, 1, 9, 0, 7, 2, 7, 3, 2, 9, 7,\n",
       "         4, 6, 6, 1, 7, 1, 6, 7]),\n",
       " tensor([6, 1, 7, 3, 0, 3, 6, 6, 8, 0, 4, 1, 7, 9, 6, 2, 9, 2, 6, 7, 1, 7, 5, 2,\n",
       "         9, 8, 6, 4, 0, 3, 3, 2]),\n",
       " tensor([2, 8, 1, 6, 8, 1, 8, 1, 0, 1, 6, 7, 3, 7, 7, 3, 3, 9, 9, 6, 6, 2, 5, 8,\n",
       "         9, 3, 3, 5, 4, 1, 6, 9]),\n",
       " tensor([4, 3, 2, 6, 1, 8, 1, 3, 4, 0, 6, 1, 9, 0, 5, 4, 5, 3, 6, 4, 1, 6, 0, 7,\n",
       "         3, 6, 2, 3, 4, 4, 5, 2]),\n",
       " tensor([9, 6, 8, 0, 4, 6, 0, 1, 7, 8, 2, 3, 3, 2, 0, 3, 8, 2, 6, 2, 5, 1, 4, 2,\n",
       "         2, 1, 7, 3, 4, 6, 9, 7]),\n",
       " tensor([8, 0, 6, 9, 4, 0, 8, 1, 2, 3, 3, 1, 5, 5, 3, 2, 6, 7, 1, 9, 2, 9, 0, 4,\n",
       "         2, 4, 8, 6, 9, 4, 7, 0]),\n",
       " tensor([3, 1, 3, 8, 3, 4, 1, 2, 6, 2, 0, 7, 7, 8, 3, 2, 9, 5, 6, 0, 9, 5, 2, 3,\n",
       "         8, 5, 3, 8, 3, 7, 9, 0]),\n",
       " tensor([2, 5, 1, 0, 5, 6, 3, 8, 7, 9, 6, 0, 7, 1, 2, 0, 8, 6, 4, 2, 7, 8, 3, 6,\n",
       "         4, 6, 9, 7, 3, 4, 8, 4]),\n",
       " tensor([5, 1, 9, 5, 0, 5, 6, 4, 1, 7, 9, 3, 3, 3, 4, 9, 1, 3, 3, 9, 5, 6, 8, 2,\n",
       "         4, 1, 4, 0, 6, 7, 8, 0]),\n",
       " tensor([6, 0, 2, 0, 0, 9, 8, 1, 3, 7, 3, 7, 9, 5, 4, 2, 3, 6, 8, 6, 5, 5, 1, 8,\n",
       "         0, 5, 7, 9, 7, 3, 0, 2]),\n",
       " tensor([6, 7, 9, 4, 6, 7, 5, 4, 7, 6, 1, 4, 6, 2, 0, 9, 6, 6, 5, 1, 1, 7, 8, 3,\n",
       "         6, 6, 2, 0, 6, 4, 9, 5]),\n",
       " tensor([2, 4, 6, 4, 6, 1, 5, 4, 7, 8, 6, 7, 7, 0, 8, 4, 3, 6, 9, 1, 2, 1, 7, 4,\n",
       "         3, 4, 9, 9, 2, 6, 4, 3]),\n",
       " tensor([3, 3, 7, 5, 2, 7, 8, 9, 9, 2, 7, 0, 7, 7, 5, 8, 7, 4, 4, 9, 0, 1, 8, 7,\n",
       "         5, 4, 5, 3, 7, 6, 6, 5]),\n",
       " tensor([5, 6, 7, 9, 1, 9, 5, 9, 4, 0, 1, 7, 8, 3, 0, 1, 0, 6, 5, 0, 2, 3, 7, 1,\n",
       "         0, 1, 0, 7, 7, 6, 0, 4]),\n",
       " tensor([7, 0, 0, 5, 1, 4, 8, 1, 5, 2, 7, 3, 2, 3, 4, 7, 8, 0, 1, 6, 9, 5, 8, 6,\n",
       "         7, 1, 5, 0, 9, 7, 1, 0]),\n",
       " tensor([6, 5, 7, 8, 4, 3, 1, 9, 0, 2, 9, 1, 3, 4, 3, 3, 3, 6, 2, 3, 8, 6, 4, 9,\n",
       "         5, 0, 1, 8, 6, 4, 3, 6]),\n",
       " tensor([2, 9, 4, 3, 7, 9, 6, 3, 5, 4, 5, 9, 8, 5, 3, 0, 1, 2, 4, 4, 1, 9, 6, 4,\n",
       "         3, 5, 5, 4, 6, 2, 0, 1]),\n",
       " tensor([4, 9, 9, 7, 0, 1, 2, 6, 0, 2, 4, 2, 5, 9, 4, 8, 4, 6, 1, 5, 6, 4, 1, 8,\n",
       "         9, 3, 1, 7, 1, 1, 1, 9]),\n",
       " tensor([1, 3, 8, 9, 9, 1, 9, 6, 0, 7, 8, 5, 5, 5, 3, 8, 9, 4, 7, 6, 4, 9, 2, 6,\n",
       "         1, 5, 0, 7, 3, 4, 0, 7]),\n",
       " tensor([1, 1, 8, 2, 8, 7, 2, 0, 7, 2, 0, 6, 5, 1, 6, 8, 2, 3, 7, 6, 3, 9, 7, 6,\n",
       "         1, 3, 9, 2, 4, 0, 3, 7]),\n",
       " tensor([8, 1, 1, 9, 5, 3, 8, 4, 6, 6, 1, 8, 2, 3, 6, 2, 8, 8, 9, 4, 3, 4, 3, 7,\n",
       "         9, 0, 8, 7, 3, 3, 8, 4]),\n",
       " tensor([1, 8, 2, 7, 6, 6, 8, 9, 2, 7, 3, 2, 6, 1, 1, 0, 4, 1, 6, 9, 0, 5, 9, 1,\n",
       "         5, 0, 9, 4, 2, 1, 7, 2]),\n",
       " tensor([9, 8, 8, 9, 5, 5, 3, 8, 2, 0, 3, 6, 1, 1, 9, 0, 9, 7, 5, 3, 2, 9, 5, 5,\n",
       "         4, 2, 9, 9, 3, 0, 6, 4]),\n",
       " tensor([1, 7, 4, 7, 2, 8, 5, 8, 6, 0, 1, 3, 2, 2, 3, 0, 6, 0, 2, 8, 3, 2, 8, 0,\n",
       "         1, 8, 4, 5, 4, 2, 3, 9]),\n",
       " tensor([0, 4, 3, 4, 5, 4, 2, 7, 3, 7, 3, 3, 6, 9, 4, 8, 5, 6, 0, 3, 6, 7, 2, 0,\n",
       "         3, 1, 1, 9, 7, 5, 4, 2]),\n",
       " tensor([1, 6, 4, 7, 8, 2, 5, 5, 8, 3, 0, 9, 6, 4, 6, 3, 8, 4, 7, 6, 8, 6, 6, 2,\n",
       "         0, 4, 1, 3, 7, 2, 4, 2]),\n",
       " tensor([2, 3, 4, 3, 0, 8, 3, 5, 4, 4, 3, 8, 4, 1, 4, 1, 4, 9, 6, 7, 9, 6, 8, 0,\n",
       "         3, 4, 3, 4, 4, 7, 5, 4]),\n",
       " tensor([1, 1, 2, 0, 7, 8, 0, 1, 0, 5, 2, 8, 9, 7, 9, 1, 1, 3, 3, 5, 2, 7, 6, 9,\n",
       "         4, 9, 3, 6, 6, 2, 8, 5]),\n",
       " tensor([2, 5, 9, 8, 3, 8, 1, 3, 3, 3, 5, 2, 5, 4, 4, 9, 2, 7, 1, 4, 2, 3, 7, 7,\n",
       "         6, 7, 9, 2, 7, 7, 0, 1]),\n",
       " tensor([2, 1, 2, 8, 2, 6, 7, 2, 7, 1, 8, 7, 5, 1, 3, 1, 0, 3, 6, 5, 3, 8, 6, 3,\n",
       "         4, 9, 3, 1, 5, 3, 0, 7]),\n",
       " tensor([0, 6, 4, 5, 1, 6, 6, 3, 3, 3, 9, 8, 3, 7, 2, 4, 2, 3, 1, 9, 6, 3, 8, 7,\n",
       "         1, 8, 1, 2, 0, 9, 2, 4]),\n",
       " tensor([3, 4, 6, 1, 3, 5, 2, 9, 7, 5, 3, 9, 5, 5, 6, 4, 8, 0, 7, 0, 8, 6, 2, 1,\n",
       "         9, 7, 7, 3, 8, 0, 3, 0]),\n",
       " tensor([9, 8, 5, 6, 4, 8, 1, 5, 5, 7, 0, 1, 6, 1, 3, 4, 4, 2, 4, 1, 7, 4, 2, 2,\n",
       "         6, 3, 8, 2, 4, 6, 3, 0]),\n",
       " tensor([8, 8, 4, 4, 2, 0, 7, 0, 8, 9, 1, 4, 6, 7, 6, 8, 1, 8, 2, 6, 6, 7, 5, 7,\n",
       "         9, 5, 3, 9, 4, 4, 6, 6]),\n",
       " tensor([1, 3, 8, 4, 4, 5, 2, 2, 2, 9, 1, 8, 0, 6, 2, 2, 0, 3, 6, 6, 1, 3, 6, 3,\n",
       "         4, 1, 5, 8, 1, 0, 7, 2]),\n",
       " tensor([5, 0, 3, 2, 8, 5, 8, 7, 8, 4, 5, 9, 5, 5, 1, 4, 4, 7, 2, 9, 7, 8, 3, 7,\n",
       "         4, 6, 3, 8, 8, 4, 5, 3]),\n",
       " tensor([8, 2, 4, 2, 2, 7, 8, 9, 0, 2, 7, 9, 1, 5, 7, 8, 4, 3, 9, 5, 9, 3, 0, 8,\n",
       "         6, 1, 6, 3, 5, 8, 0, 0]),\n",
       " tensor([3, 8, 6, 9, 0, 0, 7, 6, 6, 8, 7, 4, 8, 8, 2, 6, 3, 6, 7, 1, 3, 7, 4, 6,\n",
       "         7, 1, 6, 5, 2, 3, 7, 9]),\n",
       " tensor([6, 0, 8, 2, 0, 1, 8, 8, 3, 5, 7, 5, 2, 5, 4, 3, 7, 3, 8, 9, 0, 2, 2, 4,\n",
       "         5, 7, 0, 4, 3, 9, 5, 7]),\n",
       " tensor([2, 6, 5, 8, 3, 1, 3, 7, 4, 9, 6, 3, 9, 7, 2, 0, 8, 6, 9, 1, 9, 9, 6, 7,\n",
       "         1, 4, 7, 0, 3, 8, 7, 2]),\n",
       " tensor([8, 5, 9, 3, 4, 0, 6, 9, 6, 5, 6, 1, 3, 7, 9, 1, 8, 9, 4, 0, 9, 7, 4, 8,\n",
       "         2, 1, 2, 7, 5, 4, 0, 8]),\n",
       " tensor([2, 4, 7, 2, 2, 6, 8, 5, 7, 9, 5, 7, 4, 2, 3, 7, 3, 2, 1, 5, 6, 9, 7, 4,\n",
       "         0, 2, 2, 8, 0, 7, 7, 2]),\n",
       " tensor([2, 0, 4, 8, 4, 0, 6, 9, 8, 9, 6, 5, 0, 6, 0, 2, 6, 3, 1, 8, 7, 2, 1, 9,\n",
       "         1, 2, 6, 5, 2, 3, 2, 0]),\n",
       " tensor([2, 6, 0, 7, 2, 1, 8, 0, 8, 7, 9, 4, 1, 6, 5, 7, 7, 3, 0, 5, 9, 4, 4, 5,\n",
       "         3, 2, 0, 9, 6, 7, 3, 9]),\n",
       " tensor([1, 2, 1, 9, 7, 2, 3, 4, 8, 1, 8, 3, 5, 0, 5, 3, 8, 2, 7, 4, 9, 0, 6, 8,\n",
       "         4, 2, 4, 4, 4, 3, 7, 8]),\n",
       " tensor([7, 1, 3, 7, 8, 9, 5, 5, 2, 2, 4, 5, 0, 8, 6, 3, 4, 0, 8, 8, 9, 6, 9, 1,\n",
       "         5, 1, 2, 1, 3, 2, 2, 2]),\n",
       " tensor([4, 8, 7, 9, 9, 2, 0, 5, 7, 0, 9, 6, 5, 3, 3, 6, 3, 7, 1, 8, 2, 9, 8, 1,\n",
       "         7, 3, 2, 6, 3, 7, 1, 8]),\n",
       " tensor([5, 7, 0, 0, 5, 3, 8, 7, 7, 7, 7, 6, 5, 2, 4, 1, 2, 3, 4, 1, 0, 3, 9, 1,\n",
       "         8, 2, 3, 7, 4, 9, 5, 7]),\n",
       " tensor([4, 3, 9, 5, 6, 4, 2, 7, 3, 9, 3, 0, 8, 8, 0, 9, 4, 6, 4, 5, 7, 1, 6, 8,\n",
       "         4, 0, 2, 3, 1, 1, 1, 7]),\n",
       " tensor([6, 2, 6, 5, 9, 8, 5, 5, 3, 4, 7, 9, 2, 0, 1, 1, 1, 4, 8, 6, 5, 0, 5, 5,\n",
       "         6, 7, 3, 8, 2, 3, 6, 4]),\n",
       " tensor([6, 8, 5, 7, 4, 9, 7, 2, 2, 2, 0, 7, 4, 5, 2, 3, 3, 1, 5, 8, 1, 8, 6, 6,\n",
       "         3, 9, 1, 9, 5, 6, 9, 6]),\n",
       " tensor([9, 3, 0, 2, 2, 3, 4, 6, 6, 9, 2, 1, 1, 0, 8, 6, 7, 0, 4, 1, 1, 7, 0, 3,\n",
       "         1, 9, 4, 7, 3, 5, 2, 3]),\n",
       " tensor([6, 6, 4, 0, 3, 0, 2, 3, 8, 9, 5, 8, 9, 3, 3, 7, 8, 9, 4, 1, 1, 8, 0, 7,\n",
       "         6, 0, 9, 6, 0, 2, 9, 2]),\n",
       " tensor([8, 5, 5, 9, 3, 3, 5, 7, 1, 2, 3, 3, 5, 6, 6, 4, 1, 1, 9, 1, 4, 0, 6, 2,\n",
       "         2, 6, 6, 0, 3, 5, 0, 3]),\n",
       " tensor([0, 5, 1, 1, 8, 2, 5, 3, 5, 1, 6, 6, 3, 2, 6, 7, 9, 6, 3, 8, 7, 6, 4, 9,\n",
       "         1, 9, 7, 7, 4, 4, 2, 7]),\n",
       " tensor([5, 6, 1, 5, 7, 7, 8, 2, 8, 3, 7, 4, 6, 2, 9, 8, 0, 2, 7, 3, 1, 0, 8, 2,\n",
       "         4, 4, 6, 7, 1, 8, 4, 0]),\n",
       " tensor([3, 6, 3, 2, 9, 8, 0, 3, 8, 3, 9, 6, 1, 5, 6, 5, 6, 8, 4, 2, 5, 9, 3, 6,\n",
       "         4, 7, 8, 5, 9, 5, 0, 0]),\n",
       " tensor([6, 8, 7, 2, 9, 2, 2, 6, 4, 6, 1, 6, 3, 8, 4, 0, 3, 4, 2, 6, 8, 4, 7, 2,\n",
       "         5, 4, 3, 4, 8, 7, 6, 2]),\n",
       " tensor([1, 1, 8, 7, 3, 2, 0, 5, 4, 3, 8, 8, 8, 9, 3, 0, 9, 2, 0, 3, 6, 4, 2, 4,\n",
       "         8, 5, 9, 6, 7, 1, 9, 0]),\n",
       " tensor([3, 3, 0, 2, 3, 9, 9, 7, 3, 0, 4, 2, 6, 6, 4, 5, 3, 4, 9, 8, 5, 8, 3, 4,\n",
       "         1, 4, 8, 7, 2, 6, 2, 3]),\n",
       " tensor([5, 6, 3, 5, 2, 5, 3, 7, 1, 2, 9, 8, 7, 3, 8, 8, 5, 5, 8, 4, 4, 0, 8, 3,\n",
       "         6, 4, 9, 6, 1, 0, 5, 1]),\n",
       " tensor([4, 0, 9, 2, 6, 3, 6, 7, 4, 4, 4, 3, 8, 5, 1, 8, 3, 4, 4, 5, 0, 0, 9, 8,\n",
       "         7, 4, 2, 2, 2, 9, 3, 5]),\n",
       " tensor([0, 9, 9, 0, 1, 3, 7, 1, 9, 4, 5, 2, 6, 9, 5, 7, 9, 4, 2, 8, 3, 1, 7, 8,\n",
       "         4, 6, 8, 0, 5, 5, 7, 1]),\n",
       " tensor([7, 6, 2, 1, 5, 1, 9, 0, 1, 0, 3, 2, 7, 3, 9, 3, 5, 4, 0, 6, 9, 7, 4, 2,\n",
       "         3, 8, 5, 8, 3, 0, 4, 1]),\n",
       " tensor([2, 9, 0, 8, 9, 7, 3, 2, 0, 5, 9, 3, 1, 0, 0, 4, 1, 4, 6, 9, 9, 7, 0, 7,\n",
       "         4, 0, 1, 9, 9, 3, 9, 3]),\n",
       " tensor([2, 3, 7, 3, 1, 4, 6, 8, 3, 4, 3, 3, 8, 3, 7, 1, 0, 3, 8, 4, 7, 9, 6, 6,\n",
       "         3, 0, 4, 5, 7, 0, 7, 0]),\n",
       " tensor([9, 0, 2, 3, 3, 3, 0, 0, 4, 4, 4, 4, 6, 9, 8, 0, 7, 4, 3, 2, 2, 1, 9, 5,\n",
       "         9, 9, 0, 5, 8, 6, 7, 3]),\n",
       " tensor([9, 5, 2, 8, 9, 5, 8, 0, 0, 3, 0, 6, 3, 7, 8, 0, 1, 2, 2, 3, 1, 1, 3, 2,\n",
       "         6, 5, 4, 3, 9, 3, 3, 2]),\n",
       " tensor([3, 7, 2, 9, 2, 1, 6, 7, 5, 5, 8, 2, 6, 9, 7, 9, 7, 4, 1, 8, 3, 3, 8, 0,\n",
       "         8, 7, 0, 7, 7, 9, 4, 4]),\n",
       " tensor([0, 3, 7, 2, 1, 5, 2, 0, 5, 8, 6, 7, 0, 1, 0, 5, 6, 2, 1, 4, 1, 8, 7, 9,\n",
       "         9, 7, 3, 2, 2, 4, 7, 2]),\n",
       " tensor([3, 9, 6, 3, 9, 5, 1, 0, 9, 0, 7, 6, 3, 5, 7, 2, 7, 2, 8, 7, 5, 4, 5, 9,\n",
       "         4, 3, 5, 0, 6, 7, 5, 3]),\n",
       " tensor([1, 9, 3, 7, 1, 0, 3, 4, 4, 2, 5, 9, 2, 1, 1, 9, 7, 9, 0, 1, 6, 8, 5, 2,\n",
       "         5, 3, 7, 8, 7, 7, 0, 8]),\n",
       " tensor([5, 6, 0, 3, 5, 6, 7, 7, 9, 7, 1, 0, 0, 8, 6, 2, 0, 6, 4, 2, 5, 6, 3, 3,\n",
       "         2, 4, 5, 6, 7, 1, 8, 7]),\n",
       " tensor([1, 6, 2, 0, 4, 7, 3, 7, 4, 6, 6, 3, 9, 4, 6, 3, 0, 8, 7, 3, 3, 0, 5, 6,\n",
       "         1, 5, 0, 9, 9, 3, 3, 0]),\n",
       " tensor([6, 1, 6, 6, 5, 7, 2, 2, 0, 9, 2, 6, 8, 2, 8, 3, 7, 7, 3, 3, 9, 5, 7, 6,\n",
       "         6, 9, 4, 5, 6, 7, 2, 9]),\n",
       " tensor([5, 5, 8, 7, 4, 9, 6, 2, 3, 6, 3, 0, 4, 7, 6, 4, 2, 7, 4, 1, 5, 7, 9, 7,\n",
       "         3, 9, 8, 0, 5, 1, 9, 3]),\n",
       " tensor([1, 0, 4, 8, 0, 5, 0, 9, 5, 8, 4, 4, 4, 1, 7, 5, 1, 2, 6, 7, 0, 3, 2, 8,\n",
       "         7, 8, 5, 9, 1, 1, 3, 5]),\n",
       " tensor([9, 9, 9, 1, 0, 6, 3, 6, 3, 4, 7, 1, 3, 0, 1, 5, 3, 4, 9, 2, 4, 2, 2, 6,\n",
       "         7, 9, 6, 7, 1, 4, 0, 8]),\n",
       " tensor([3, 3, 5, 6, 0, 8, 3, 3, 4, 0, 1, 8, 2, 3, 2, 9, 5, 4, 6, 5, 2, 1, 6, 4,\n",
       "         4, 5, 8, 0, 7, 3, 0, 6]),\n",
       " tensor([7, 6, 2, 3, 6, 4, 4, 6, 3, 4, 8, 1, 7, 5, 4, 8, 7, 7, 9, 9, 8, 2, 0, 9,\n",
       "         4, 0, 8, 8, 8, 0, 5, 6]),\n",
       " tensor([6, 6, 0, 2, 9, 9, 2, 3, 5, 4, 0, 1, 0, 8, 9, 5, 7, 3, 0, 2, 4, 1, 2, 8,\n",
       "         1, 8, 2, 2, 6, 9, 8, 5]),\n",
       " tensor([1, 2, 4, 0, 9, 2, 5, 5, 0, 7, 1, 6, 5, 8, 9, 9, 4, 9, 6, 1, 1, 2, 5, 0,\n",
       "         8, 0, 4, 2, 3, 0, 0, 0]),\n",
       " tensor([3, 3, 5, 9, 4, 7, 1, 5, 0, 1, 6, 1, 7, 9, 4, 0, 4, 5, 2, 9, 4, 9, 8, 8,\n",
       "         7, 6, 2, 3, 9, 3, 6, 7]),\n",
       " tensor([3, 2, 7, 0, 6, 1, 0, 5, 7, 3, 5, 9, 2, 3, 4, 8, 5, 8, 1, 9, 6, 7, 6, 7,\n",
       "         3, 6, 2, 5, 6, 8, 8, 6]),\n",
       " tensor([7, 4, 0, 5, 1, 5, 9, 6, 0, 9, 5, 8, 5, 7, 3, 9, 8, 3, 4, 0, 5, 7, 5, 1,\n",
       "         1, 5, 4, 1, 2, 5, 8, 2]),\n",
       " tensor([9, 6, 3, 3, 4, 6, 2, 4, 1, 1, 4, 7, 2, 5, 0, 2, 6, 8, 8, 6, 7, 7, 1, 2,\n",
       "         6, 6, 1, 6, 0, 2, 5, 8]),\n",
       " tensor([2, 4, 8, 3, 1, 8, 8, 4, 4, 0, 5, 6, 8, 0, 3, 4, 8, 5, 7, 5, 7, 0, 1, 1,\n",
       "         9, 7, 8, 6, 1, 9, 6, 3]),\n",
       " tensor([6, 9, 4, 0, 6, 9, 7, 0, 0, 2, 0, 5, 0, 6, 3, 7, 8, 0, 2, 0, 1, 1, 9, 9,\n",
       "         6, 5, 3, 6, 8, 9, 8, 0]),\n",
       " tensor([6, 1, 2, 3, 7, 6, 9, 0, 4, 8, 2, 3, 4, 9, 5, 5, 9, 4, 0, 4, 0, 1, 8, 8,\n",
       "         6, 4, 2, 3, 8, 0, 7, 1]),\n",
       " tensor([8, 8, 5, 3, 3, 7, 7, 1, 0, 1, 4, 1, 9, 0, 2, 1, 1, 0, 7, 3, 7, 3, 6, 0,\n",
       "         1, 8, 9, 2, 6, 6, 0, 9]),\n",
       " tensor([1, 3, 1, 2, 7, 8, 0, 5, 3, 8, 2, 9, 5, 3, 5, 9, 1, 8, 5, 3, 1, 6, 6, 3,\n",
       "         7, 3, 5, 4, 8, 0, 7, 1]),\n",
       " tensor([2, 3, 9, 8, 3, 8, 7, 7, 9, 7, 0, 9, 4, 0, 9, 6, 1, 9, 8, 6, 3, 7, 6, 9,\n",
       "         5, 4, 7, 1, 2, 1, 2, 3]),\n",
       " tensor([9, 6, 0, 5, 6, 0, 5, 6, 4, 6, 9, 9, 1, 2, 7, 7, 7, 4, 5, 1, 2, 0, 6, 3,\n",
       "         8, 9, 8, 4, 1, 0, 8, 3]),\n",
       " tensor([9, 8, 8, 7, 8, 3, 0, 0, 7, 6, 8, 6, 9, 9, 4, 7, 7, 2, 2, 1, 5, 3, 2, 3,\n",
       "         5, 5, 0, 8, 2, 7, 8, 9]),\n",
       " tensor([4, 2, 1, 7, 6, 6, 4, 7, 4, 3, 6, 0, 7, 7, 8, 0, 9, 1, 2, 6, 2, 9, 7, 1,\n",
       "         9, 7, 3, 3, 1, 4, 3, 5]),\n",
       " tensor([3, 3, 9, 4, 1, 4, 6, 2, 7, 5, 4, 6, 9, 9, 8, 3, 8, 1, 2, 2, 7, 5, 0, 1,\n",
       "         4, 6, 0, 1, 2, 0, 7, 6]),\n",
       " tensor([8, 8, 2, 8, 4, 5, 0, 0, 1, 7, 9, 7, 3, 9, 4, 6, 2, 8, 7, 1, 6, 8, 7, 6,\n",
       "         6, 6, 8, 2, 8, 0, 1, 5]),\n",
       " tensor([3, 0, 1, 7, 4, 9, 3, 7, 9, 3, 1, 8, 3, 0, 9, 3, 6, 6, 4, 2, 7, 6, 0, 9,\n",
       "         8, 8, 1, 5, 7, 7, 0, 7]),\n",
       " tensor([5, 4, 0, 0, 7, 8, 7, 3, 7, 0, 6, 5, 5, 2, 6, 9, 2, 6, 3, 2, 0, 4, 7, 2,\n",
       "         6, 6, 0, 1, 9, 3, 8, 3]),\n",
       " tensor([9, 7, 1, 7, 1, 3, 4, 6, 5, 0, 0, 6, 4, 1, 1, 2, 9, 0, 3, 2, 1, 3, 2, 7,\n",
       "         3, 1, 8, 5, 7, 4, 0, 5]),\n",
       " tensor([0, 4, 6, 2, 2, 5, 4, 1, 8, 2, 1, 5, 3, 8, 8, 9, 5, 0, 1, 5, 1, 2, 9, 0,\n",
       "         3, 1, 1, 4, 7, 8, 3, 6]),\n",
       " tensor([9, 3, 2, 8, 3, 8, 4, 9, 4, 7, 5, 6, 3, 6, 4, 5, 7, 3, 7, 6, 6, 6, 9, 3,\n",
       "         0, 5, 4, 1, 2, 1, 8, 1]),\n",
       " tensor([9, 4, 8, 9, 9, 3, 3, 7, 0, 0, 6, 1, 6, 3, 6, 4, 3, 2, 7, 3, 6, 3, 4, 0,\n",
       "         0, 1, 3, 6, 3, 5, 7, 9]),\n",
       " tensor([6, 6, 3, 7, 5, 1, 2, 7, 7, 5, 8, 0, 9, 1, 2, 1, 4, 9, 1, 6, 5, 2, 3, 0,\n",
       "         7, 1, 2, 7, 9, 3, 7, 4]),\n",
       " tensor([4, 6, 6, 7, 2, 7, 3, 3, 7, 8, 8, 7, 0, 1, 4, 0, 9, 7, 9, 9, 1, 2, 0, 4,\n",
       "         7, 4, 3, 3, 1, 7, 5, 7]),\n",
       " tensor([2, 9, 2, 0, 3, 1, 4, 5, 5, 3, 2, 5, 8, 4, 5, 2, 0, 8, 3, 2, 1, 7, 9, 2,\n",
       "         9, 1, 4, 6, 7, 1, 0, 6]),\n",
       " tensor([3, 8, 3, 1, 8, 2, 8, 9, 8, 8, 1, 0, 9, 6, 6, 6, 1, 1, 4, 7, 3, 0, 7, 9,\n",
       "         8, 9, 5, 4, 0, 4, 7, 2]),\n",
       " tensor([3, 8, 3, 8, 4, 1, 2, 4, 8, 1, 0, 8, 1, 8, 5, 4, 2, 7, 0, 2, 4, 9, 4, 4,\n",
       "         4, 9, 9, 6, 9, 9, 6, 7]),\n",
       " tensor([3, 2, 3, 3, 9, 6, 7, 7, 8, 1, 1, 2, 6, 5, 7, 6, 4, 7, 4, 7, 0, 2, 2, 9,\n",
       "         7, 7, 7, 5, 0, 0, 2, 3]),\n",
       " tensor([4, 6, 2, 0, 9, 8, 7, 2, 4, 2, 8, 9, 7, 1, 6, 7, 9, 9, 0, 1, 5, 1, 2, 3,\n",
       "         6, 7, 9, 8, 3, 3, 8, 5]),\n",
       " tensor([2, 4, 3, 6, 8, 0, 9, 2, 6, 9, 0, 5, 6, 5, 1, 5, 2, 1, 8, 1, 7, 1, 9, 1,\n",
       "         8, 3, 5, 4, 1, 0, 8, 6]),\n",
       " tensor([6, 6, 8, 2, 2, 5, 5, 0, 6, 3, 9, 8, 0, 1, 0, 0, 4, 8, 3, 4, 7, 7, 5, 9,\n",
       "         2, 5, 3, 6, 7, 9, 4, 8]),\n",
       " tensor([5, 6, 9, 3, 4, 0, 2, 8, 3, 1, 9, 2, 1, 6, 7, 3, 8, 5, 0, 4, 6, 4, 1, 1,\n",
       "         9, 8, 3, 9, 5, 2, 6, 0]),\n",
       " tensor([5, 4, 5, 6, 8, 3, 2, 4, 8, 4, 4, 5, 0, 4, 3, 1, 9, 2, 8, 7, 8, 2, 3, 6,\n",
       "         2, 5, 4, 9, 0, 7, 1, 1]),\n",
       " tensor([7, 9, 6, 1, 6, 5, 5, 4, 6, 3, 3, 6, 1, 0, 0, 9, 9, 8, 2, 9, 6, 4, 5, 4,\n",
       "         7, 2, 6, 5, 2, 6, 9, 3]),\n",
       " tensor([7, 0, 6, 3, 5, 3, 4, 3, 4, 6, 9, 8, 8, 6, 6, 0, 0, 3, 7, 4, 2, 8, 1, 9,\n",
       "         2, 4, 9, 3, 6, 2, 0, 6]),\n",
       " tensor([7, 2, 5, 0, 6, 3, 1, 3, 0, 9, 5, 4, 3, 7, 6, 2, 2, 9, 0, 7, 3, 5, 6, 8,\n",
       "         2, 1, 0, 2, 2, 5, 9, 2]),\n",
       " tensor([5, 0, 2, 0, 7, 4, 6, 2, 3, 3, 8, 6, 3, 8, 9, 4, 0, 6, 8, 4, 8, 2, 5, 7,\n",
       "         0, 3, 6, 8, 1, 5, 9, 2]),\n",
       " tensor([2, 8, 9, 6, 1, 0, 5, 5, 3, 2, 8, 2, 2, 6, 7, 6, 5, 3, 7, 4, 5, 8, 8, 3,\n",
       "         8, 8, 0, 6, 2, 6, 3, 6]),\n",
       " tensor([6, 9, 2, 5, 6, 5, 0, 3, 1, 7, 8, 0, 4, 7, 3, 3, 8, 0, 0, 9, 2, 8, 5, 4,\n",
       "         9, 6, 3, 4, 2, 0, 1, 1]),\n",
       " tensor([9, 3, 8, 2, 1, 9, 3, 8, 4, 8, 2, 3, 7, 6, 6, 4, 9, 2, 6, 2, 9, 8, 0, 5,\n",
       "         7, 4, 4, 5, 4, 1, 0, 7]),\n",
       " tensor([2, 4, 2, 7, 2, 6, 3, 3, 1, 5, 4, 0, 1, 9, 7, 5, 6, 5, 2, 7, 2, 6, 3, 5,\n",
       "         4, 8, 9, 0, 9, 7, 5, 7]),\n",
       " tensor([7, 9, 3, 3, 8, 4, 3, 9, 3, 1, 0, 2, 5, 2, 8, 7, 9, 7, 7, 7, 9, 2, 6, 0,\n",
       "         6, 7, 2, 1, 8, 0, 3, 8]),\n",
       " tensor([5, 0, 5, 6, 9, 1, 1, 2, 2, 8, 9, 7, 7, 5, 8, 6, 1, 4, 0, 1, 8, 4, 3, 4,\n",
       "         7, 9, 3, 7, 5, 5, 3, 9]),\n",
       " tensor([1, 4, 1, 6, 7, 4, 6, 9, 3, 4, 4, 1, 7, 8, 1, 6, 5, 9, 0, 0, 9, 8, 3, 8,\n",
       "         8, 2, 8, 5, 7, 0, 7, 0]),\n",
       " tensor([9, 6, 9, 2, 9, 4, 8, 5, 4, 0, 3, 2, 6, 3, 7, 4, 1, 7, 7, 8, 5, 7, 0, 6,\n",
       "         6, 2, 1, 3, 8, 3, 3, 2]),\n",
       " tensor([7, 5, 9, 1, 0, 4, 3, 7, 6, 6, 3, 1, 8, 4, 7, 2, 5, 7, 3, 1, 7, 0, 9, 2,\n",
       "         8, 6, 2, 6, 1, 8, 3, 9]),\n",
       " tensor([8, 4, 0, 6, 8, 4, 5, 1, 0, 4, 6, 4, 4, 8, 5, 7, 7, 7, 3, 5, 5, 7, 9, 7,\n",
       "         6, 2, 8, 2, 1, 3, 3, 4]),\n",
       " tensor([8, 9, 4, 0, 7, 3, 6, 8, 1, 0, 6, 1, 0, 5, 2, 9, 7, 2, 8, 7, 3, 7, 0, 3,\n",
       "         2, 1, 7, 4, 0, 5, 5, 0]),\n",
       " tensor([2, 3, 0, 1, 6, 6, 5, 0, 1, 8, 8, 4, 5, 1, 7, 8, 7, 3, 2, 7, 0, 9, 3, 1,\n",
       "         8, 0, 4, 6, 6, 5, 9, 9]),\n",
       " tensor([2, 2, 7, 1, 8, 1, 4, 2, 3, 7, 8, 4, 0, 4, 5, 1, 2, 9, 3, 5, 8, 0, 1, 9,\n",
       "         6, 7, 3, 7, 4, 4, 6, 6]),\n",
       " tensor([2, 1, 3, 3, 6, 7, 0, 5, 9, 6, 9, 3, 7, 9, 9, 6, 8, 6, 0, 1, 4, 4, 0, 2,\n",
       "         8, 3, 2, 1, 3, 3, 2, 7]),\n",
       " tensor([8, 7, 0, 4, 3, 4, 4, 5, 7, 9, 4, 8, 2, 4, 8, 6, 1, 7, 6, 7, 6, 6, 0, 3,\n",
       "         5, 1, 1, 2, 3, 6, 9, 8]),\n",
       " tensor([1, 6, 1, 6, 8, 5, 4, 0, 4, 0, 4, 9, 3, 8, 5, 2, 8, 6, 2, 8, 6, 4, 6, 0,\n",
       "         8, 7, 5, 2, 8, 7, 2, 9]),\n",
       " tensor([5, 9, 2, 1, 6, 4, 1, 7, 7, 1, 7, 3, 5, 8, 7, 2, 5, 1, 5, 6, 0, 6, 0, 1,\n",
       "         2, 4, 3, 8, 0, 3, 2, 2]),\n",
       " tensor([3, 5, 1, 6, 3, 6, 5, 1, 8, 3, 1, 6, 7, 6, 4, 2, 0, 3, 7, 6, 1, 3, 9, 0,\n",
       "         2, 6, 1, 4, 6, 8, 3, 6]),\n",
       " tensor([8, 5, 7, 2, 4, 7, 7, 6, 3, 8, 1, 7, 7, 0, 3, 1, 6, 6, 5, 3, 8, 9, 3, 0,\n",
       "         9, 5, 1, 7, 2, 1, 5, 2]),\n",
       " tensor([0, 3, 2, 0, 7, 1, 3, 4, 4, 8, 7, 0, 6, 7, 3, 3, 7, 8, 8, 2, 5, 6, 9, 7,\n",
       "         0, 2, 9, 3, 0, 5, 5, 6]),\n",
       " tensor([9, 1, 4, 3, 5, 6, 4, 1, 4, 0, 3, 3, 6, 3, 0, 8, 6, 7, 5, 5, 7, 0, 7, 9,\n",
       "         4, 3, 2, 9, 4, 7, 1, 6]),\n",
       " tensor([8, 8, 5, 8, 3, 8, 9, 3, 6, 0, 2, 1, 8, 4, 4, 6, 0, 9, 5, 3, 1, 5, 1, 3,\n",
       "         5, 6, 6, 2, 1, 7, 3, 6]),\n",
       " tensor([8, 2, 9, 3, 9, 0, 0, 4, 1, 2, 6, 2, 9, 1, 3, 9, 7, 3, 2, 6, 3, 9, 7, 8,\n",
       "         5, 0, 9, 3, 0, 3, 8, 1]),\n",
       " tensor([3, 2, 7, 5, 6, 4, 5, 6, 8, 9, 1, 9, 1, 8, 1, 2])]"
      ]
     },
     "execution_count": 75,
     "metadata": {},
     "output_type": "execute_result"
    }
   ],
   "source": [
    "pred_list"
   ]
  },
  {
   "cell_type": "code",
   "execution_count": 99,
   "metadata": {},
   "outputs": [],
   "source": [
    "preds = (torch.cat(pred_list))"
   ]
  },
  {
   "cell_type": "code",
   "execution_count": 83,
   "metadata": {},
   "outputs": [],
   "source": [
    "import torchmetrics\n",
    "import mlxtend"
   ]
  },
  {
   "cell_type": "code",
   "execution_count": 88,
   "metadata": {},
   "outputs": [
    {
     "data": {
      "text/plain": [
       "9"
      ]
     },
     "execution_count": 88,
     "metadata": {},
     "output_type": "execute_result"
    }
   ],
   "source": [
    "image, labels = test_data[0]\n",
    "\n",
    "labels"
   ]
  },
  {
   "cell_type": "code",
   "execution_count": 91,
   "metadata": {},
   "outputs": [
    {
     "data": {
      "text/plain": [
       "10000"
      ]
     },
     "execution_count": 91,
     "metadata": {},
     "output_type": "execute_result"
    }
   ],
   "source": []
  },
  {
   "cell_type": "code",
   "execution_count": 101,
   "metadata": {},
   "outputs": [
    {
     "data": {
      "text/plain": [
       "tensor([[704,   3,  31,  73,   9,   0, 179,   0,   1,   0],\n",
       "        [ 20, 886,   4,  67,  14,   2,   7,   0,   0,   0],\n",
       "        [ 19,   3, 722,  17, 131,   0, 103,   0,   5,   0],\n",
       "        [ 22,  11,  22, 883,  28,   0,  25,   0,   6,   3],\n",
       "        [ 13,   5,  99,  57, 702,   0, 123,   0,   1,   0],\n",
       "        [ 12,   1,   7,   8,   0, 813,   6,  53,  79,  21],\n",
       "        [108,   8,  94,  69,  78,   0, 641,   0,   2,   0],\n",
       "        [  0,   0,   0,   0,   0,  36,   0, 914,  11,  39],\n",
       "        [ 23,   1,  25,  13,   7,  13,  44,  10, 860,   4],\n",
       "        [  2,   1,   0,   0,   0,  15,   9,  85,  34, 854]])"
      ]
     },
     "execution_count": 101,
     "metadata": {},
     "output_type": "execute_result"
    }
   ],
   "source": [
    "from torchmetrics import ConfusionMatrix\n",
    "from mlxtend.plotting import plot_confusion_matrix\n",
    "\n",
    "\n",
    "cmformat = ConfusionMatrix(num_classes=len(train_data.classes), task=\"multiclass\")\n",
    "\n",
    "cmformat_tensor = cmformat(preds, test_data.targets)\n",
    "\n",
    "cmformat_tensor\n",
    "\n",
    "\n"
   ]
  },
  {
   "cell_type": "code",
   "execution_count": 107,
   "metadata": {},
   "outputs": [
    {
     "data": {
      "image/png": "[encoded data removed]",
      "text/plain": [
       "<Figure size 1000x700 with 1 Axes>"
      ]
     },
     "metadata": {},
     "output_type": "display_data"
    }
   ],
   "source": [
    "fig, ax = plot_confusion_matrix(conf_mat=cmformat_tensor.numpy(),\n",
    "                      class_names=test_data.classes,\n",
    "                      figsize=(10,7))"
   ]
  },
  {
   "cell_type": "code",
   "execution_count": null,
   "metadata": {},
   "outputs": [],
   "source": []
  }
 ],
 "metadata": {
  "kernelspec": {
   "display_name": "transformers",
   "language": "python",
   "name": "python3"
  },
  "language_info": {
   "codemirror_mode": {
    "name": "ipython",
    "version": 3
   },
   "file_extension": ".py",
   "mimetype": "text/x-python",
   "name": "python",
   "nbconvert_exporter": "python",
   "pygments_lexer": "ipython3",
   "version": "3.13.1"
  }
 },
 "nbformat": 4,
 "nbformat_minor": 2
}
