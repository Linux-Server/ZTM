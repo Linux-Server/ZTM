{
 "cells": [
  {
   "cell_type": "code",
   "execution_count": 187,
   "metadata": {},
   "outputs": [],
   "source": [
    "## Convolutional Neural Network\n",
    "import torch\n",
    "from torch import nn\n",
    "from torchvision import datasets\n",
    "from torchvision.transforms import v2\n",
    "\n",
    "\n",
    "train_data = datasets.FashionMNIST(root=\"datas\",\n",
    "                                   download=True,\n",
    "                                   train=True,\n",
    "                                   transform=v2.PILToTensor()\n",
    "                                   )\n",
    "\n",
    "\n",
    "test_data = datasets.FashionMNIST(root=\"datas\",\n",
    "                                  download=True,\n",
    "                                  train=False,\n",
    "                                  transform=v2.PILToTensor()\n",
    "                                  )\n",
    "        "
   ]
  },
  {
   "cell_type": "code",
   "execution_count": 188,
   "metadata": {},
   "outputs": [
    {
     "data": {
      "text/plain": [
       "(60000, 10000)"
      ]
     },
     "execution_count": 188,
     "metadata": {},
     "output_type": "execute_result"
    }
   ],
   "source": [
    "len(train_data), len(test_data)"
   ]
  },
  {
   "cell_type": "code",
   "execution_count": 189,
   "metadata": {},
   "outputs": [
    {
     "data": {
      "text/plain": [
       "(10, torch.Size([1, 28, 28]))"
      ]
     },
     "execution_count": 189,
     "metadata": {},
     "output_type": "execute_result"
    }
   ],
   "source": [
    "len(train_data.classes),  train_data[0][0].shape"
   ]
  },
  {
   "cell_type": "code",
   "execution_count": 190,
   "metadata": {},
   "outputs": [],
   "source": [
    "class FashinMnistV2(nn.Module):\n",
    "    def __init__(self, input_shape, hidden_unit, output_shape):\n",
    "        super().__init__()\n",
    "        self.conv_block_1 = nn.Sequential(\n",
    "            nn.Conv2d(\n",
    "               in_channels= input_shape,\n",
    "               out_channels=hidden_unit,\n",
    "               stride=1,\n",
    "               padding=1,\n",
    "               kernel_size=3\n",
    "            ),\n",
    "            nn.ReLU(),\n",
    "            nn.Conv2d(in_channels=hidden_unit,\n",
    "                      out_channels=hidden_unit,\n",
    "                      stride=1,\n",
    "                      padding=1,\n",
    "                      kernel_size=3\n",
    "            ),\n",
    "            nn.ReLU(),\n",
    "            nn.MaxPool2d(kernel_size=2)\n",
    "                 \n",
    "        )\n",
    "        \n",
    "        self.conv_block_2 = nn.Sequential(\n",
    "              nn.Conv2d(\n",
    "               in_channels= hidden_unit,\n",
    "               out_channels=hidden_unit,\n",
    "               stride=1,\n",
    "               padding=1,\n",
    "               kernel_size=3\n",
    "            ),\n",
    "            nn.ReLU(),\n",
    "            nn.Conv2d(in_channels=hidden_unit,\n",
    "                      out_channels=hidden_unit,\n",
    "                      stride=1,\n",
    "                      padding=1,\n",
    "                      kernel_size=3\n",
    "            ),\n",
    "            nn.ReLU(),\n",
    "            nn.MaxPool2d(kernel_size=2)\n",
    "        )\n",
    "        \n",
    "        self.classifier = nn.Sequential(\n",
    "            nn.Flatten(),\n",
    "            nn.Linear(in_features=hidden_unit*7*7 ,   ## resolve this sachin????\n",
    "                      out_features= output_shape)\n",
    "            \n",
    "        )\n",
    "        \n",
    "    def forward(self, x):\n",
    "        x = self.conv_block_1(x)\n",
    "        print(\"Shape conv layer 1\" , x.shape)\n",
    "        x = self.conv_block_2(x)\n",
    "        print(\"Shape conv layer 2\" , x.shape)\n",
    "        x = self.classifier(x)\n",
    "        print(\"Shape classifier\" , x.shape)\n",
    "\n",
    "        \n",
    "        return x\n"
   ]
  },
  {
   "cell_type": "code",
   "execution_count": 191,
   "metadata": {},
   "outputs": [],
   "source": [
    "# Instatiate our model \n",
    "\n",
    "device = \"cuda\" if torch.cuda.is_available() else \"cpu\"\n",
    "\n",
    "torch.manual_seed(42)\n",
    "model_2 = FashinMnistV2(input_shape=1,\n",
    "                        hidden_unit=10,\n",
    "                        output_shape=len(train_data.classes)).to(device)\n",
    "\n"
   ]
  },
  {
   "cell_type": "code",
   "execution_count": 192,
   "metadata": {},
   "outputs": [
    {
     "data": {
      "text/plain": [
       "torch.Size([3, 64, 64])"
      ]
     },
     "execution_count": 192,
     "metadata": {},
     "output_type": "execute_result"
    }
   ],
   "source": [
    "# creat an image tensor of batch 32 for testing\n",
    "\n",
    "images = torch.rand(32,3,64,64)\n",
    "test_image = images[0]\n",
    "test_image.shape"
   ]
  },
  {
   "cell_type": "code",
   "execution_count": 193,
   "metadata": {},
   "outputs": [
    {
     "data": {
      "text/plain": [
       "torch.Size([64, 64, 64])"
      ]
     },
     "execution_count": 193,
     "metadata": {},
     "output_type": "execute_result"
    }
   ],
   "source": [
    "# create a conv2d layer\n",
    "conv_layer = nn.Conv2d(in_channels=3,\n",
    "                            out_channels=64,\n",
    "                            kernel_size=3,\n",
    "                            stride=1,\n",
    "                            padding=1)\n",
    "\n",
    "\n",
    "image_after_conv_layer  = conv_layer(test_image)\n",
    "image_after_conv_layer.shape"
   ]
  },
  {
   "cell_type": "code",
   "execution_count": 194,
   "metadata": {},
   "outputs": [
    {
     "data": {
      "text/plain": [
       "torch.Size([64, 32, 32])"
      ]
     },
     "execution_count": 194,
     "metadata": {},
     "output_type": "execute_result"
    }
   ],
   "source": [
    "# creat a maxpool layer\n",
    "max_layer = nn.MaxPool2d(kernel_size=2)\n",
    "\n",
    "max_layer(image_after_conv_layer).shape"
   ]
  },
  {
   "cell_type": "code",
   "execution_count": 195,
   "metadata": {},
   "outputs": [
    {
     "data": {
      "text/plain": [
       "<matplotlib.image.AxesImage at 0x16c9efc50>"
      ]
     },
     "execution_count": 195,
     "metadata": {},
     "output_type": "execute_result"
    },
    {
     "data": {
      "image/png": "[encoded data removed]",
      "text/plain": [
       "<Figure size 640x480 with 1 Axes>"
      ]
     },
     "metadata": {},
     "output_type": "display_data"
    }
   ],
   "source": [
    "# get a fashion image\n",
    "import matplotlib.pyplot as plt\n",
    "\n",
    "image = train_data[0][0]\n",
    "\n",
    "plt.imshow(image.squeeze(), cmap=\"gray\")"
   ]
  },
  {
   "cell_type": "code",
   "execution_count": 196,
   "metadata": {},
   "outputs": [],
   "source": [
    "image = image.type(torch.float)"
   ]
  },
  {
   "cell_type": "code",
   "execution_count": 197,
   "metadata": {},
   "outputs": [
    {
     "name": "stdout",
     "output_type": "stream",
     "text": [
      "Shape conv layer 1 torch.Size([1, 10, 14, 14])\n",
      "Shape conv layer 2 torch.Size([1, 10, 7, 7])\n",
      "Shape classifier torch.Size([1, 10])\n"
     ]
    },
    {
     "data": {
      "text/plain": [
       "tensor([[-0.4252, -3.6026,  2.8097, -3.6178,  2.5319, -2.1097, -0.9511,  3.2399,\n",
       "         -4.4498,  0.2484]], grad_fn=<AddmmBackward0>)"
      ]
     },
     "execution_count": 197,
     "metadata": {},
     "output_type": "execute_result"
    }
   ],
   "source": [
    "model_2(image.unsqueeze(dim=1))\n"
   ]
  },
  {
   "cell_type": "code",
   "execution_count": 198,
   "metadata": {},
   "outputs": [
    {
     "data": {
      "text/plain": [
       "'2.6.0'"
      ]
     },
     "execution_count": 198,
     "metadata": {},
     "output_type": "execute_result"
    }
   ],
   "source": [
    "torch.__version__"
   ]
  },
  {
   "cell_type": "code",
   "execution_count": 199,
   "metadata": {},
   "outputs": [
    {
     "data": {
      "text/plain": [
       "torch.Size([1, 1, 28, 28])"
      ]
     },
     "execution_count": 199,
     "metadata": {},
     "output_type": "execute_result"
    }
   ],
   "source": [
    "image.unsqueeze(dim=1).shape"
   ]
  },
  {
   "cell_type": "code",
   "execution_count": 200,
   "metadata": {},
   "outputs": [],
   "source": [
    "# Add loss and optimizer\n",
    "from helper import  accuracy_fn\n",
    "\n",
    "loss_fn = nn.CrossEntropyLoss()\n",
    "\n",
    "optimizer = torch.optim.SGD(model_2.parameters(), lr=0.1)"
   ]
  },
  {
   "cell_type": "code",
   "execution_count": null,
   "metadata": {},
   "outputs": [],
   "source": [
    "torch.manual_seed(42)\n",
    "torch.cuda.manual_seed(42)\n",
    "\n",
    "from timeit import default_timer as timer \n",
    "from tqdm.auto import tqdm\n",
    "from train_eval_batch import train_step\n",
    "\n",
    "start_time = timer()\n",
    "\n",
    "epochs = 4\n",
    "\n",
    "for epoch in tqdm(range(epochs)):\n",
    "    print(f\"Epochs : {epoch} \\n----\")\n",
    "    \n",
    "    train_step(model=model_2,\n",
    "               data_loader=train_data)\n",
    "    \n",
    "    \n",
    "    \n",
    "\n"
   ]
  },
  {
   "cell_type": "code",
   "execution_count": null,
   "metadata": {},
   "outputs": [],
   "source": []
  }
 ],
 "metadata": {
  "kernelspec": {
   "display_name": "transformers",
   "language": "python",
   "name": "python3"
  },
  "language_info": {
   "codemirror_mode": {
    "name": "ipython",
    "version": 3
   },
   "file_extension": ".py",
   "mimetype": "text/x-python",
   "name": "python",
   "nbconvert_exporter": "python",
   "pygments_lexer": "ipython3",
   "version": "3.13.1"
  }
 },
 "nbformat": 4,
 "nbformat_minor": 2
}
