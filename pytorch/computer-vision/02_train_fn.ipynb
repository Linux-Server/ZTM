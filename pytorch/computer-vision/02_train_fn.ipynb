{
 "cells": [
  {
   "cell_type": "code",
   "execution_count": 65,
   "metadata": {},
   "outputs": [],
   "source": [
    "# training loop - train_step\n",
    "# testing loop - test loop\n",
    "\n",
    "# Dataset\n",
    "# setup traing data\n",
    "from torchvision import datasets\n",
    "import torchvision.transforms as transforms\n",
    "\n",
    "# Define a transform to convert the image to a tensor\n",
    "transform = transforms.Compose([\n",
    "    transforms.ToTensor()\n",
    "])\n",
    "\n",
    "train_data = datasets.FashionMNIST(root = \"data\",\n",
    "                      train=True,\n",
    "                      download=True,\n",
    "                      transform=transform)\n",
    "\n",
    "\n",
    "test_data = datasets.FashionMNIST(root = \"data\",\n",
    "                      train=False,\n",
    "                      download=True,\n",
    "                      transform=transform,)"
   ]
  },
  {
   "cell_type": "code",
   "execution_count": 66,
   "metadata": {},
   "outputs": [],
   "source": [
    "from torch.utils.data.dataloader import DataLoader\n",
    "\n",
    "train_data_loader = DataLoader(train_data, batch_size=32, shuffle=True)\n",
    "\n",
    "test_data_loader = DataLoader(test_data, shuffle=True, batch_size=32)"
   ]
  },
  {
   "cell_type": "code",
   "execution_count": 67,
   "metadata": {},
   "outputs": [],
   "source": [
    "from torch import nn\n",
    "import torch\n",
    "\n",
    "class FashionMNISTModel(nn.Module):\n",
    "    def __init__(self, input_shape, hidden_units, output_shape):\n",
    "        super().__init__()\n",
    "        self.layer_stack = nn.Sequential(\n",
    "            nn.Flatten(),\n",
    "            nn.Linear(in_features=input_shape, out_features=hidden_units),\n",
    "            nn.ReLU(),\n",
    "            nn.Linear(in_features=hidden_units, out_features=output_shape),\n",
    "            nn.ReLU()\n",
    "        )\n",
    "        \n",
    "    def forward(self, x):\n",
    "        return self.layer_stack(x)\n",
    "    \n",
    "    \n",
    "\n",
    "\n",
    "torch.manual_seed(42)\n",
    "\n",
    "model_1 = FashionMNISTModel(\n",
    "    input_shape= 784,\n",
    "    hidden_units=10,\n",
    "    output_shape=len(train_data.classes)\n",
    "    \n",
    ").to(\"cpu\")\n",
    "\n",
    "\n",
    "from helper import accuracy_fn\n",
    "\n",
    "loss_fn = nn.CrossEntropyLoss() \n",
    "optimizer = torch.optim.SGD(model_1.parameters(), lr=0.1)"
   ]
  },
  {
   "cell_type": "code",
   "execution_count": 68,
   "metadata": {},
   "outputs": [],
   "source": [
    "import torch\n",
    "from torch import nn\n",
    "from helper import accuracy_fn\n",
    "\n",
    "# device agonostic code\n",
    "device = \"cuda\" if torch.cuda.is_available() else \"cpu\"\n",
    "\n",
    "def train_step(model: nn.Module,\n",
    "               data_loader: torch.utils.data.DataLoader,\n",
    "               loss_fn : nn.Module,\n",
    "               optimizer: torch.optim.Optimizer,\n",
    "               accuracy_fn = accuracy_fn,\n",
    "               device: torch.device = device):\n",
    "    \n",
    "    \"\"\"Performs training steps of model with corresponding dataloader\"\"\"\n",
    "    \n",
    "    train_loss, train_acc = 0, 0\n",
    "    \n",
    "    model.train()\n",
    "\n",
    "    \n",
    "    for batch, (X,y) in enumerate(data_loader):\n",
    "        \n",
    "        X,y = X.to(device), y.to(device)\n",
    "        \n",
    "        train_logits = model(X)\n",
    "        \n",
    "        # In batch u should accumulate the train loss and acc\n",
    "        loss = loss_fn(train_logits, y)\n",
    "        train_loss += loss \n",
    "        train_acc  = accuracy_fn(y, train_logits.argmax(dim=1))\n",
    "        \n",
    "        optimizer.zero_grad()\n",
    "        \n",
    "        loss.backward()\n",
    "        \n",
    "        optimizer.step()\n",
    "        \n",
    "        if batch % 400 == 0:\n",
    "            print(f\"Look at {batch * len(X)} / {len(train_data) } samples\")\n",
    "    \n",
    "    train_loss = train_loss / len(train_data_loader)\n",
    "    train_acc = train_acc / len(train_data_loader)\n",
    "    \n",
    "    print(f\"Train loss : {train_loss} | Train Acc : {train_acc} \")\n",
    "    \n",
    "        \n",
    "    "
   ]
  },
  {
   "cell_type": "code",
   "execution_count": 69,
   "metadata": {},
   "outputs": [],
   "source": [
    "def test_step(model: torch.nn.Module,\n",
    "              data_loader : torch.utils.data.DataLoader,\n",
    "              loss_fn: nn.Module,\n",
    "              accuracy_fn= accuracy_fn,\n",
    "              device: torch.device = device):\n",
    "    \n",
    "    test_loss, test_acc = 0, 0\n",
    "    \n",
    "    model.eval()        \n",
    "\n",
    "    with torch.inference_mode():\n",
    "\n",
    "        for X,y in data_loader:\n",
    "            \n",
    "            X,y = X.to(device), y.to(device)\n",
    "\n",
    "            test_logits = model(X)\n",
    "            \n",
    "            loss = loss_fn(test_logits, y)\n",
    "            test_loss += loss\n",
    "            \n",
    "            test_acc += accuracy_fn(y, test_logits.argmax(dim=1))\n",
    "        \n",
    "        test_loss = test_loss / len(data_loader)\n",
    "        test_acc = test_acc / len(data_loader)\n",
    "        \n",
    "        print(f\"Test loss : {test_loss} |  Test acc : {test_acc}\")\n",
    "            \n",
    "    "
   ]
  },
  {
   "cell_type": "code",
   "execution_count": 70,
   "metadata": {},
   "outputs": [
    {
     "name": "stdout",
     "output_type": "stream",
     "text": [
      "EPOCH check : 0\n",
      "------\n",
      "Look at 0 / 60000 samples\n",
      "Look at 12800 / 60000 samples\n",
      "Look at 25600 / 60000 samples\n",
      "Look at 38400 / 60000 samples\n",
      "Look at 51200 / 60000 samples\n",
      "Train loss : 1.0587784051895142 | Train Acc : 0.04 \n",
      "Test loss : 0.9633945226669312 |  Test acc : 65.22333333333333\n",
      "EPOCH check : 1\n",
      "------\n",
      "Look at 0 / 60000 samples\n",
      "Look at 12800 / 60000 samples\n",
      "Look at 25600 / 60000 samples\n",
      "Look at 38400 / 60000 samples\n",
      "Look at 51200 / 60000 samples\n",
      "Train loss : 0.9117913842201233 | Train Acc : 0.04 \n",
      "Test loss : 0.9208199977874756 |  Test acc : 66.37833333333333\n",
      "EPOCH check : 2\n",
      "------\n",
      "Look at 0 / 60000 samples\n",
      "Look at 12800 / 60000 samples\n",
      "Look at 25600 / 60000 samples\n",
      "Look at 38400 / 60000 samples\n",
      "Look at 51200 / 60000 samples\n",
      "Train loss : 0.881722092628479 | Train Acc : 0.03666666666666667 \n",
      "Test loss : 0.8477543592453003 |  Test acc : 68.45833333333333\n",
      "Total time taken : 7.916713334000633\n"
     ]
    }
   ],
   "source": [
    "from timeit import default_timer as timer\n",
    "\n",
    "start_time_cpu = timer()\n",
    "EPOCHS =3\n",
    "\n",
    "for epoch in range(EPOCHS):\n",
    "    print(f\"EPOCH check : {epoch}\\n------\")\n",
    "    train_step(model=model_1, data_loader=train_data_loader, accuracy_fn=accuracy_fn, loss_fn=loss_fn,optimizer=optimizer)\n",
    "    test_step(model=model_1, data_loader=train_data_loader, accuracy_fn=accuracy_fn, loss_fn=loss_fn)\n",
    "\n",
    "end_time_cpu = timer()\n",
    "\n",
    "print(f\"Total time taken : {end_time_cpu - start_time_cpu}\")\n"
   ]
  },
  {
   "cell_type": "code",
   "execution_count": 71,
   "metadata": {},
   "outputs": [
    {
     "data": {
      "text/plain": [
       "FashionMNISTModel(\n",
       "  (layer_stack): Sequential(\n",
       "    (0): Flatten(start_dim=1, end_dim=-1)\n",
       "    (1): Linear(in_features=784, out_features=10, bias=True)\n",
       "    (2): ReLU()\n",
       "    (3): Linear(in_features=10, out_features=10, bias=True)\n",
       "    (4): ReLU()\n",
       "  )\n",
       ")"
      ]
     },
     "execution_count": 71,
     "metadata": {},
     "output_type": "execute_result"
    }
   ],
   "source": [
    "model_1"
   ]
  },
  {
   "cell_type": "code",
   "execution_count": 76,
   "metadata": {},
   "outputs": [],
   "source": [
    "import torch.utils.data.dataloader\n",
    "from tqdm.auto import tqdm\n",
    "\n",
    "def eval_model(model: torch.nn.Module,\n",
    "               data_loader: torch.utils.data.dataloader,\n",
    "               loss : torch.nn.Module,\n",
    "               accuracy_fn\n",
    "              ):\n",
    "    loss, acc = 0, 0\n",
    "    model.eval()\n",
    "    for X,y in tqdm(data_loader, colour=\"green\"):\n",
    "        test_logits = model(X)\n",
    "        loss += loss_fn(test_logits, y)\n",
    "        acc += accuracy_fn(y_true=y, y_pred=test_logits.argmax(dim=1))\n",
    "    \n",
    "    loss = loss / len(data_loader)\n",
    "    acc = acc / len(data_loader)        \n",
    "    \n",
    "    return {\"model_name\" : model.__class__.__name__,\n",
    "            \"model_loss\" : loss,\n",
    "            \"model_acc\" : acc}"
   ]
  },
  {
   "cell_type": "code",
   "execution_count": 77,
   "metadata": {},
   "outputs": [
    {
     "name": "stderr",
     "output_type": "stream",
     "text": [
      "  0%|\u001b[32m          \u001b[0m| 0/313 [00:00<?, ?it/s]"
     ]
    },
    {
     "name": "stderr",
     "output_type": "stream",
     "text": [
      "100%|\u001b[32m██████████\u001b[0m| 313/313 [00:00<00:00, 1279.81it/s]\n"
     ]
    }
   ],
   "source": [
    "model_1_results = eval_model(model=model_1, data_loader=test_data_loader, loss=loss_fn, accuracy_fn=accuracy_fn)"
   ]
  },
  {
   "cell_type": "code",
   "execution_count": 78,
   "metadata": {},
   "outputs": [
    {
     "data": {
      "text/plain": [
       "{'model_name': 'FashionMNISTModel',\n",
       " 'model_loss': tensor(0.8907, grad_fn=<DivBackward0>),\n",
       " 'model_acc': 67.0726837060703}"
      ]
     },
     "execution_count": 78,
     "metadata": {},
     "output_type": "execute_result"
    }
   ],
   "source": [
    "model_1_results"
   ]
  },
  {
   "cell_type": "code",
   "execution_count": null,
   "metadata": {},
   "outputs": [],
   "source": []
  }
 ],
 "metadata": {
  "kernelspec": {
   "display_name": "transformers",
   "language": "python",
   "name": "python3"
  },
  "language_info": {
   "codemirror_mode": {
    "name": "ipython",
    "version": 3
   },
   "file_extension": ".py",
   "mimetype": "text/x-python",
   "name": "python",
   "nbconvert_exporter": "python",
   "pygments_lexer": "ipython3",
   "version": "3.13.1"
  }
 },
 "nbformat": 4,
 "nbformat_minor": 2
}
