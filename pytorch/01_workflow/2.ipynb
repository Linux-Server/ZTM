{
 "cells": [
  {
   "cell_type": "code",
   "execution_count": 1,
   "metadata": {},
   "outputs": [
    {
     "data": {
      "text/plain": [
       "'2.6.0'"
      ]
     },
     "execution_count": 1,
     "metadata": {},
     "output_type": "execute_result"
    }
   ],
   "source": [
    "# import all libs\n",
    "\n",
    "import torch\n",
    "from torch import nn\n",
    "import matplotlib.pyplot as plt\n",
    "import numpy as np\n",
    "\n",
    "\n",
    "torch.__version__"
   ]
  },
  {
   "cell_type": "code",
   "execution_count": 2,
   "metadata": {},
   "outputs": [
    {
     "data": {
      "text/plain": [
       "'cpu'"
      ]
     },
     "execution_count": 2,
     "metadata": {},
     "output_type": "execute_result"
    }
   ],
   "source": [
    "# device agonistic code\n",
    "device = \"gpu\" if torch.cuda.is_available() else \"cpu\"\n",
    "device"
   ]
  },
  {
   "cell_type": "code",
   "execution_count": 3,
   "metadata": {},
   "outputs": [
    {
     "data": {
      "text/plain": [
       "(tensor([[0.0000],\n",
       "         [0.0200],\n",
       "         [0.0400],\n",
       "         [0.0600],\n",
       "         [0.0800],\n",
       "         [0.1000],\n",
       "         [0.1200],\n",
       "         [0.1400],\n",
       "         [0.1600],\n",
       "         [0.1800]]),\n",
       " tensor([[0.4000],\n",
       "         [0.4180],\n",
       "         [0.4360],\n",
       "         [0.4540],\n",
       "         [0.4720],\n",
       "         [0.4900],\n",
       "         [0.5080],\n",
       "         [0.5260],\n",
       "         [0.5440],\n",
       "         [0.5620]]))"
      ]
     },
     "execution_count": 3,
     "metadata": {},
     "output_type": "execute_result"
    }
   ],
   "source": [
    "# create data\n",
    "w = 0.9\n",
    "b = 0.4\n",
    "\n",
    "start = 0\n",
    "end = 1\n",
    "step =0.02\n",
    "\n",
    "X = torch.arange(start,end,step).unsqueeze(dim=1)\n",
    "y = w*X + b\n",
    "X[:10], y[:10]\n"
   ]
  },
  {
   "cell_type": "code",
   "execution_count": 4,
   "metadata": {},
   "outputs": [
    {
     "data": {
      "text/plain": [
       "(40, 10)"
      ]
     },
     "execution_count": 4,
     "metadata": {},
     "output_type": "execute_result"
    }
   ],
   "source": [
    "# split the data\n",
    "train_split_size = int(0.8 * len(X))\n",
    "\n",
    "X_train, y_train = X[:train_split_size], y[:train_split_size]\n",
    "X_test, y_test = X[train_split_size:], y[train_split_size:]\n",
    "len(X_train), len(X_test)"
   ]
  },
  {
   "cell_type": "code",
   "execution_count": 5,
   "metadata": {},
   "outputs": [],
   "source": [
    "# plot the data\n",
    "\n",
    "def plot_predition(X_train=X_train,X_test=X_test,y_train=y_train,y_test=y_test,predition=None):\n",
    "    \n",
    "    plt.scatter(X_train,y_train, c=\"b\", label=\"Training data\")\n",
    "    plt.scatter(X_test, y_test, c=\"g\", label=\"Testing data\")\n",
    "    \n",
    "    if predition is not None : \n",
    "        plt.scatter(X_test, predition, c=\"r\", label=\"Predition\")\n",
    "    \n",
    "    plt.legend()"
   ]
  },
  {
   "cell_type": "code",
   "execution_count": 6,
   "metadata": {},
   "outputs": [
    {
     "data": {
      "image/png": "[encoded data removed]",
      "text/plain": [
       "<Figure size 640x480 with 1 Axes>"
      ]
     },
     "metadata": {},
     "output_type": "display_data"
    }
   ],
   "source": [
    "plot_predition()"
   ]
  },
  {
   "cell_type": "code",
   "execution_count": 7,
   "metadata": {},
   "outputs": [],
   "source": [
    "from torch import nn\n",
    "class LinearLayers(nn.Module):\n",
    "    def __init__(self):\n",
    "        super().__init__()\n",
    "        self.linear_layers = nn.Linear(in_features=1, out_features=1)\n",
    "        \n",
    "    def forward(self, x:torch.Tensor)-> torch.Tensor:\n",
    "        return self.linear_layers(x)"
   ]
  },
  {
   "cell_type": "code",
   "execution_count": 8,
   "metadata": {},
   "outputs": [
    {
     "data": {
      "text/plain": [
       "OrderedDict([('linear_layers.weight', tensor([[0.7645]])),\n",
       "             ('linear_layers.bias', tensor([0.8300]))])"
      ]
     },
     "execution_count": 8,
     "metadata": {},
     "output_type": "execute_result"
    }
   ],
   "source": [
    "torch.manual_seed(42)\n",
    "model_1 = LinearLayers()\n",
    "\n",
    "model_1.state_dict()"
   ]
  },
  {
   "cell_type": "code",
   "execution_count": 9,
   "metadata": {},
   "outputs": [],
   "source": [
    "# Loss function\n",
    "loss_fn = nn.L1Loss() # MAE\n",
    "# optimizer\n",
    "optimizer = torch.optim.SGD(model_1.parameters(), lr=0.01)\n"
   ]
  },
  {
   "cell_type": "code",
   "execution_count": 10,
   "metadata": {},
   "outputs": [
    {
     "name": "stdout",
     "output_type": "stream",
     "text": [
      "The train loss: 0.3771779239177704 | test loss : 0.2959762513637543 | epoch : 0\n",
      "The train loss: 0.26196807622909546 | test loss : 0.16126640141010284 | epoch : 10\n",
      "The train loss: 0.14675821363925934 | test loss : 0.026556575670838356 | epoch : 20\n",
      "The train loss: 0.060565829277038574 | test loss : 0.07872583717107773 | epoch : 30\n",
      "The train loss: 0.04930984228849411 | test loss : 0.10161155462265015 | epoch : 40\n",
      "The train loss: 0.04526454955339432 | test loss : 0.10164407640695572 | epoch : 50\n",
      "The train loss: 0.04174921661615372 | test loss : 0.09680596739053726 | epoch : 60\n",
      "The train loss: 0.03831040859222412 | test loss : 0.088533416390419 | epoch : 70\n",
      "The train loss: 0.03487955778837204 | test loss : 0.08094775676727295 | epoch : 80\n",
      "The train loss: 0.03144560009241104 | test loss : 0.07267521321773529 | epoch : 90\n",
      "The train loss: 0.028006792068481445 | test loss : 0.06440267711877823 | epoch : 100\n",
      "The train loss: 0.02457762323319912 | test loss : 0.05681701749563217 | epoch : 110\n",
      "The train loss: 0.021141979843378067 | test loss : 0.04854448884725571 | epoch : 120\n",
      "The train loss: 0.017704134806990623 | test loss : 0.04095879942178726 | epoch : 130\n",
      "The train loss: 0.014275692403316498 | test loss : 0.03268629312515259 | epoch : 140\n",
      "The train loss: 0.01083835307508707 | test loss : 0.024413740262389183 | epoch : 150\n",
      "The train loss: 0.007402197923511267 | test loss : 0.016828084364533424 | epoch : 160\n",
      "The train loss: 0.003973542246967554 | test loss : 0.00855553150177002 | epoch : 170\n"
     ]
    }
   ],
   "source": [
    "# training loop\n",
    "epochs = 180\n",
    "\n",
    "train_loss_count = []\n",
    "test_loss_count = []\n",
    "epoch_count = []\n",
    "\n",
    "for epoch in range(epochs):\n",
    "    # traing mode activated\n",
    "    model_1.train()\n",
    "    \n",
    "    # do the foward pass\n",
    "    pred = model_1(X_train)\n",
    "    \n",
    "    # calc the loss\n",
    "    train_loss = loss_fn(pred, y_train)\n",
    "    \n",
    "    # set the zero grad\n",
    "    optimizer.zero_grad()\n",
    "    \n",
    "    # backpropagation\n",
    "    train_loss.backward()\n",
    "    \n",
    "    # adjust the weights\n",
    "    \n",
    "    optimizer.step()\n",
    "    \n",
    "    #eval\n",
    "    model_1.eval()\n",
    "    \n",
    "    with torch.inference_mode():\n",
    "        preds = model_1(X_test)\n",
    "        test_loss = loss_fn(preds, y_test)\n",
    "        train_loss_count.append(train_loss)\n",
    "        test_loss_count.append(test_loss)\n",
    "        epoch_count.append(epoch)\n",
    "        \n",
    "        if epoch % 10 == 0 :\n",
    "            print(f\"The train loss: {train_loss} | test loss : {test_loss} | epoch : {epoch}\")\n",
    "        \n",
    "        \n",
    "        \n",
    "    \n",
    "    \n",
    "    "
   ]
  },
  {
   "cell_type": "code",
   "execution_count": 11,
   "metadata": {},
   "outputs": [
    {
     "name": "stderr",
     "output_type": "stream",
     "text": [
      "/var/folders/c7/z9xcy1l1481bm3hgrydzvlxm0000gn/T/ipykernel_10766/3235289961.py:4: UserWarning: No artists with labels found to put in legend.  Note that artists whose label start with an underscore are ignored when legend() is called with no argument.\n",
      "  plt.legend()\n"
     ]
    },
    {
     "data": {
      "text/plain": [
       "<matplotlib.legend.Legend at 0x12e578190>"
      ]
     },
     "execution_count": 11,
     "metadata": {},
     "output_type": "execute_result"
    },
    {
     "data": {
      "image/png": "[encoded data removed]",
      "text/plain": [
       "<Figure size 640x480 with 1 Axes>"
      ]
     },
     "metadata": {},
     "output_type": "display_data"
    }
   ],
   "source": [
    "plt.plot(epoch_count,torch.tensor(train_loss_count).numpy())\n",
    "plt.plot(epoch_count,torch.tensor(test_loss_count).numpy())\n",
    "\n",
    "plt.legend()"
   ]
  },
  {
   "cell_type": "code",
   "execution_count": 12,
   "metadata": {},
   "outputs": [
    {
     "data": {
      "text/plain": [
       "OrderedDict([('linear_layers.weight', tensor([[0.8987]])),\n",
       "             ('linear_layers.bias', tensor([0.4095]))])"
      ]
     },
     "execution_count": 12,
     "metadata": {},
     "output_type": "execute_result"
    }
   ],
   "source": [
    "model_1.state_dict()"
   ]
  },
  {
   "cell_type": "code",
   "execution_count": 13,
   "metadata": {},
   "outputs": [],
   "source": [
    "model_1.eval()\n",
    "\n",
    "with torch.inference_mode():\n",
    "    predus = model_1(X_test)"
   ]
  },
  {
   "cell_type": "code",
   "execution_count": 14,
   "metadata": {},
   "outputs": [
    {
     "data": {
      "image/png": "[encoded data removed]",
      "text/plain": [
       "<Figure size 640x480 with 1 Axes>"
      ]
     },
     "metadata": {},
     "output_type": "display_data"
    }
   ],
   "source": [
    "plot_predition(predition=predus)            "
   ]
  },
  {
   "cell_type": "code",
   "execution_count": 17,
   "metadata": {},
   "outputs": [],
   "source": [
    "# saving and loading model\n",
    "\n",
    "torch.save(model_1, \"./models/tree.pt\")"
   ]
  },
  {
   "cell_type": "code",
   "execution_count": 28,
   "metadata": {},
   "outputs": [],
   "source": [
    "loaded_model_weights = torch.load(\"./models/two.pt\")"
   ]
  },
  {
   "cell_type": "code",
   "execution_count": 29,
   "metadata": {},
   "outputs": [
    {
     "data": {
      "text/plain": [
       "OrderedDict([('linear_layers.weight', tensor([[-0.2191]])),\n",
       "             ('linear_layers.bias', tensor([0.2018]))])"
      ]
     },
     "execution_count": 29,
     "metadata": {},
     "output_type": "execute_result"
    }
   ],
   "source": [
    "loaded_model = LinearLayers()\n",
    "\n",
    "loaded_model.state_dict()"
   ]
  },
  {
   "cell_type": "code",
   "execution_count": 31,
   "metadata": {},
   "outputs": [
    {
     "data": {
      "text/plain": [
       "<All keys matched successfully>"
      ]
     },
     "execution_count": 31,
     "metadata": {},
     "output_type": "execute_result"
    }
   ],
   "source": [
    "loaded_model.load_state_dict(loaded_model_weights)"
   ]
  },
  {
   "cell_type": "code",
   "execution_count": 32,
   "metadata": {},
   "outputs": [
    {
     "data": {
      "text/plain": [
       "OrderedDict([('linear_layers.weight', tensor([[0.8987]])),\n",
       "             ('linear_layers.bias', tensor([0.4095]))])"
      ]
     },
     "execution_count": 32,
     "metadata": {},
     "output_type": "execute_result"
    }
   ],
   "source": [
    "loaded_model.state_dict()"
   ]
  },
  {
   "cell_type": "code",
   "execution_count": 37,
   "metadata": {},
   "outputs": [],
   "source": [
    "# to create a model directory\n",
    "from pathlib import Path\n",
    "\n",
    "MODEL_PATH = Path(\"new_model\")\n",
    "\n",
    "MODEL_PATH.mkdir(parents=True, exist_ok=True)\n"
   ]
  },
  {
   "cell_type": "code",
   "execution_count": null,
   "metadata": {},
   "outputs": [],
   "source": []
  }
 ],
 "metadata": {
  "kernelspec": {
   "display_name": "transformers",
   "language": "python",
   "name": "python3"
  },
  "language_info": {
   "codemirror_mode": {
    "name": "ipython",
    "version": 3
   },
   "file_extension": ".py",
   "mimetype": "text/x-python",
   "name": "python",
   "nbconvert_exporter": "python",
   "pygments_lexer": "ipython3",
   "version": "3.13.1"
  }
 },
 "nbformat": 4,
 "nbformat_minor": 2
}
